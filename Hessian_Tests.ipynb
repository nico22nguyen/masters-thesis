{
  "cells": [
    {
      "cell_type": "code",
      "execution_count": null,
      "metadata": {
        "id": "n6qGvtnwQZdP"
      },
      "outputs": [],
      "source": [
        "import numpy as np\n",
        "import matplotlib.pyplot as plt\n",
        "import keras\n",
        "#from cur import cur_decomposition\n",
        "from keras.datasets import mnist     # MNIST dataset is included in Keras\n",
        "from keras.datasets import fashion_mnist  #\n",
        "from keras.datasets import cifar10  #\n",
        "from keras.models import Sequential, Model  # Model type to be used\n",
        "from keras.layers import Dense, Conv2D, Dropout, Flatten, MaxPooling2D, Activation, Conv1D, LocallyConnected1D, Reshape, Softmax, Input\n",
        "#from keras.utils import np_utils\n",
        "import tensorflow as tf\n",
        "import tensorflow.keras.backend as kb\n",
        "from datetime import datetime\n",
        "from tqdm.notebook import tqdm"
      ]
    },
    {
      "cell_type": "code",
      "execution_count": null,
      "metadata": {
        "id": "rU1lNr_bd2OZ"
      },
      "outputs": [],
      "source": [
        "@tf.function\n",
        "def get_hessian1(model,input,target, lossfunc = tf.keras.losses.CategoricalCrossentropy()):\n",
        "    loss = lossfunc(model(input),target)\n",
        "    return tf.hessians(loss, input)"
      ]
    },
    {
      "cell_type": "code",
      "execution_count": null,
      "metadata": {
        "id": "x1iO36tOd4Qp"
      },
      "outputs": [],
      "source": [
        "@tf.function\n",
        "def get_hessian2(model,input,target, lossfunc = tf.keras.losses.CategoricalCrossentropy()):\n",
        "    with tf.GradientTape() as t2:\n",
        "      t2.watch(input)\n",
        "      with tf.GradientTape() as t1:\n",
        "        t1.watch(input)\n",
        "        loss = lossfunc(model(input),target)\n",
        "      g=t1.gradient(loss,input)\n",
        "    return t2.jacobian(g,input)"
      ]
    },
    {
      "cell_type": "code",
      "execution_count": null,
      "metadata": {
        "id": "AOj09j9KQs8q"
      },
      "outputs": [],
      "source": [
        "def ManifoldAngles(layerfeatlist,neighboursize1=10,classsize=10,dim_reduc_size=3,fileloc = \"layers/\"):\n",
        "\n",
        "  starttime = tf.timestamp()\n",
        "  tf.print(\"start: \")\n",
        "\n",
        "  no_of_layers = len(layerfeatlist)\n",
        "  reduction_quality = []\n",
        "  class_chars = []\n",
        "\n",
        "  for c1 in range(classsize):\n",
        "    class_chars.append([])\n",
        "    for layer_i in range(no_of_layers):\n",
        "      class_chars[c1].append(LayerCharacteristics())\n",
        "      layer_features = layerfeatlist[layer_i]\n",
        "\n",
        "      layer_start = tf.timestamp()\n",
        "\n",
        "      for i,x_i in enumerate(layer_features):\n",
        "\n",
        "        class_chars[c1][layer_i].neighbour_dict[i] = tf.argsort(tf.norm( tf.math.subtract(layer_features,x_i) ,axis=1))[0:neighboursize1+1]# [1:neighboursize1+1]#templist\n",
        "\n",
        "        W_i = tf.gather(layer_features,class_chars[c1][0].neighbour_dict[i])\n",
        "        #class_chars[c1][layer_i].distances[i] = tf.math.reduce_euclidean_norm( tf.math.subtract( W_i , x_i ),axis=1)\n",
        "\n",
        "        W_i = ( W_i - tf.math.reduce_mean(W_i,axis=0) )\n",
        "        s, u, v = tf.linalg.svd( W_i )\n",
        "        W_i_reduced = v[:,:dim_reduc_size]\n",
        "\n",
        "        class_chars[c1][layer_i].svd_weights[i] = s[:dim_reduc_size]\n",
        "        reduction_quality.append(  tf.reduce_sum( (s[:dim_reduc_size])/ tf.reduce_sum(s) ) )\n",
        "        #tf.print(\"Reduction quality: \",  reduction_quality[-1])\n",
        "        #if reduction_quality[-1] < 0.9: tf.print(\"Warning! Reduction quality: \",  reduction_quality[-1], i)\n",
        "        class_chars[c1][layer_i].U_dict[i] = W_i_reduced\n",
        "\n",
        "      tf.print(\"--layer time: \", tf.timestamp() - layer_start)\n",
        "      class_chars[c1][layer_i].space_linearity_sum = 0.0\n",
        "      angle_start = tf.timestamp()\n",
        "\n",
        "      manifold_neighbour_angle_sum=[]\n",
        "      for i in range(len(class_chars[c1][layer_i].U_dict)):\n",
        "        manifold_neighbour_angle_sum_temp=[]\n",
        "        manifold_neighbour_angle_sum.append([])\n",
        "\n",
        "        for j in class_chars[c1][0].neighbour_dict[i]:\n",
        "          if i != j:\n",
        "            teta =  tf.matmul(  tf.transpose(class_chars[c1][layer_i].U_dict[i]),  class_chars[c1][layer_i].U_dict[int(j)]   )\n",
        "            weights =  tf.matmul(  tf.transpose( tf.expand_dims(class_chars[c1][layer_i].svd_weights[i],0)), tf.expand_dims(class_chars[c1][layer_i].svd_weights[int(j)],0)  )\n",
        "            Q = teta*weights\n",
        "            #tf.print(i,\"-----\", j)\n",
        "            #Q =  tf.matmul(  tf.transpose( tf.matmul( class_chars[c1][layer_i].U_dict[i], np.diag(class_chars[c1][layer_i].svd_weights[i]) ) ), tf.matmul( class_chars[c1][layer_i].U_dict[int(j)], np.diag(class_chars[c1][layer_i].svd_weights[int(j)]) ) )\n",
        "\n",
        "            s, u, v = tf.linalg.svd( Q )\n",
        "\n",
        "            tetaw = tf.reduce_sum(s)/tf.linalg.trace(weights)\n",
        "            angles = tf.math.acos( tf.clip_by_value(tetaw,-1,1) )\n",
        "            manifold_neighbour_angle_sum_temp.append( tf.math.sin(angles)  )\n",
        "\n",
        "        #manifold_neighbour_angle_sum[i].append(tf.reduce_mean(tf.convert_to_tensor(manifold_neighbour_angle_sum_temp)) * tf.reduce_mean(class_chars[c1][layer_i].distances[i]) )\n",
        "        manifold_neighbour_angle_sum[i].append(tf.reduce_mean(tf.convert_to_tensor(manifold_neighbour_angle_sum_temp)))\n",
        "      #class_chars[c1][layer_i].space_linearity_sum = tf.reduce_sum( tf.convert_to_tensor(manifold_neighbour_angle_sum )) / tf.reduce_sum([tf.reduce_mean( x ) for x in list(class_chars[c1][layer_i].distances.values())])\n",
        "      class_chars[c1][layer_i].space_linearity_sum = tf.reduce_mean( tf.convert_to_tensor(manifold_neighbour_angle_sum ))\n",
        "      tf.print(\"--angle time: \", tf.timestamp() - angle_start)\n",
        "\n",
        "  #tf.print(\"endtime: \", tf.timestamp() - starttime)\n",
        "  if no_of_layers==1: tf.print(\"Average reduction quality: \",  tf.reduce_mean(reduction_quality))\n",
        "  tf.print(\"endtime: \", tf.timestamp() - starttime)\n",
        "  return class_chars,manifold_neighbour_angle_sum"
      ]
    },
    {
      "cell_type": "code",
      "execution_count": null,
      "metadata": {
        "colab": {
          "base_uri": "https://localhost:8080/"
        },
        "id": "zVPMuhHLQw6p",
        "outputId": "10cd14ee-ae45-4eee-adfa-75ce07d79cbf"
      },
      "outputs": [
        {
          "name": "stdout",
          "output_type": "stream",
          "text": [
            "Downloading data from https://storage.googleapis.com/tensorflow/tf-keras-datasets/mnist.npz\n",
            "11490434/11490434 [==============================] - 2s 0us/step\n"
          ]
        }
      ],
      "source": [
        "(X_train, train_y), (X_test, test_y) = mnist.load_data()\n",
        "X_train = X_train / 255\n",
        "X_test = X_test/ 255"
      ]
    },
    {
      "cell_type": "code",
      "execution_count": null,
      "metadata": {
        "id": "ceyK4JUDQyEM"
      },
      "outputs": [],
      "source": [
        "Y_train = np_utils.to_categorical(train_y, 10)\n",
        "Y_test = np_utils.to_categorical(test_y, 10)"
      ]
    },
    {
      "cell_type": "code",
      "execution_count": null,
      "metadata": {
        "id": "JDqbf3LgQzTb"
      },
      "outputs": [],
      "source": [
        "class LayerCharacteristics():\n",
        "    def __init__(self):\n",
        "      self.space_linearity_sum = []\n",
        "      self.total_sum = []\n",
        "      self.svd_weights = {}\n",
        "      self.distances = {}\n",
        "      self.neighbour_dict = {}\n",
        "      self.U_dict = {}"
      ]
    },
    {
      "cell_type": "code",
      "execution_count": null,
      "metadata": {
        "id": "YlQcT2WXQ48p"
      },
      "outputs": [],
      "source": [
        "def create_model():\n",
        "  model = Sequential()\n",
        "  model.add(Conv2D(50, kernel_size=(28,28), input_shape=(28,28,1), activation='tanh',use_bias=False, kernel_initializer='random_uniform',padding='valid'))\n",
        "  #model.add(MaxPooling2D(pool_size=(2, 2)))#model.add(tf.keras.layers.BatchNormalization())\n",
        "  model.add(Flatten()) # Flattening the 2D arrays for fully connected layers\n",
        "  model.add(Dense(10, activation='linear', kernel_initializer= 'random_uniform'))\n",
        "  model.add(tf.keras.layers.Softmax())\n",
        "\n",
        "  return model"
      ]
    },
    {
      "cell_type": "code",
      "execution_count": null,
      "metadata": {
        "colab": {
          "base_uri": "https://localhost:8080/"
        },
        "id": "MgAX2JiWQ6W7",
        "outputId": "0f1d8b93-f1e9-44f3-efcf-f65c510e2cd3"
      },
      "outputs": [
        {
          "name": "stdout",
          "output_type": "stream",
          "text": [
            "Model: \"sequential_2\"\n",
            "_________________________________________________________________\n",
            " Layer (type)                Output Shape              Param #   \n",
            "=================================================================\n",
            " conv2d_2 (Conv2D)           (None, 1, 1, 50)          39200     \n",
            "                                                                 \n",
            " flatten_4 (Flatten)         (None, 50)                0         \n",
            "                                                                 \n",
            " dense_2 (Dense)             (None, 10)                510       \n",
            "                                                                 \n",
            " softmax_1 (Softmax)         (None, 10)                0         \n",
            "                                                                 \n",
            "=================================================================\n",
            "Total params: 39,710\n",
            "Trainable params: 39,710\n",
            "Non-trainable params: 0\n",
            "_________________________________________________________________\n"
          ]
        }
      ],
      "source": [
        "nt = create_model()\n",
        "nt.summary()"
      ]
    },
    {
      "cell_type": "code",
      "execution_count": null,
      "metadata": {
        "colab": {
          "base_uri": "https://localhost:8080/"
        },
        "id": "vi2E9_Z3Q7x4",
        "outputId": "1f185313-1556-49fd-8059-2caa12afc436"
      },
      "outputs": [
        {
          "name": "stdout",
          "output_type": "stream",
          "text": [
            "Epoch 1/20\n",
            "469/469 [==============================] - 3s 5ms/step - loss: 0.5890 - categorical_accuracy: 0.8696 - val_loss: 0.2761 - val_categorical_accuracy: 0.9230\n",
            "Epoch 2/20\n",
            "469/469 [==============================] - 3s 6ms/step - loss: 0.2423 - categorical_accuracy: 0.9310 - val_loss: 0.2108 - val_categorical_accuracy: 0.9389\n",
            "Epoch 3/20\n",
            "469/469 [==============================] - 2s 5ms/step - loss: 0.1907 - categorical_accuracy: 0.9457 - val_loss: 0.1779 - val_categorical_accuracy: 0.9469\n",
            "Epoch 4/20\n",
            "469/469 [==============================] - 2s 5ms/step - loss: 0.1595 - categorical_accuracy: 0.9544 - val_loss: 0.1579 - val_categorical_accuracy: 0.9536\n",
            "Epoch 5/20\n",
            "469/469 [==============================] - 2s 5ms/step - loss: 0.1375 - categorical_accuracy: 0.9615 - val_loss: 0.1417 - val_categorical_accuracy: 0.9587\n",
            "Epoch 6/20\n",
            "469/469 [==============================] - 2s 5ms/step - loss: 0.1206 - categorical_accuracy: 0.9662 - val_loss: 0.1341 - val_categorical_accuracy: 0.9606\n",
            "Epoch 7/20\n",
            "469/469 [==============================] - 3s 6ms/step - loss: 0.1075 - categorical_accuracy: 0.9702 - val_loss: 0.1235 - val_categorical_accuracy: 0.9635\n",
            "Epoch 8/20\n",
            "469/469 [==============================] - 2s 5ms/step - loss: 0.0965 - categorical_accuracy: 0.9730 - val_loss: 0.1164 - val_categorical_accuracy: 0.9649\n",
            "Epoch 9/20\n",
            "469/469 [==============================] - 2s 5ms/step - loss: 0.0873 - categorical_accuracy: 0.9757 - val_loss: 0.1152 - val_categorical_accuracy: 0.9664\n",
            "Epoch 10/20\n",
            "469/469 [==============================] - 2s 5ms/step - loss: 0.0794 - categorical_accuracy: 0.9780 - val_loss: 0.1115 - val_categorical_accuracy: 0.9676\n",
            "Epoch 11/20\n",
            "469/469 [==============================] - 2s 5ms/step - loss: 0.0722 - categorical_accuracy: 0.9797 - val_loss: 0.1097 - val_categorical_accuracy: 0.9673\n",
            "Epoch 12/20\n",
            "469/469 [==============================] - 3s 5ms/step - loss: 0.0666 - categorical_accuracy: 0.9820 - val_loss: 0.1052 - val_categorical_accuracy: 0.9695\n",
            "Epoch 13/20\n",
            "469/469 [==============================] - 3s 6ms/step - loss: 0.0610 - categorical_accuracy: 0.9840 - val_loss: 0.1055 - val_categorical_accuracy: 0.9681\n",
            "Epoch 14/20\n",
            "469/469 [==============================] - 2s 5ms/step - loss: 0.0562 - categorical_accuracy: 0.9853 - val_loss: 0.1027 - val_categorical_accuracy: 0.9690\n",
            "Epoch 15/20\n",
            "469/469 [==============================] - 2s 5ms/step - loss: 0.0519 - categorical_accuracy: 0.9865 - val_loss: 0.1034 - val_categorical_accuracy: 0.9690\n",
            "Epoch 16/20\n",
            "469/469 [==============================] - 2s 5ms/step - loss: 0.0478 - categorical_accuracy: 0.9875 - val_loss: 0.1035 - val_categorical_accuracy: 0.9692\n",
            "Epoch 17/20\n",
            "469/469 [==============================] - 2s 5ms/step - loss: 0.0442 - categorical_accuracy: 0.9886 - val_loss: 0.1025 - val_categorical_accuracy: 0.9701\n",
            "Epoch 18/20\n",
            "469/469 [==============================] - 3s 7ms/step - loss: 0.0407 - categorical_accuracy: 0.9901 - val_loss: 0.1030 - val_categorical_accuracy: 0.9699\n",
            "Epoch 19/20\n",
            "469/469 [==============================] - 2s 5ms/step - loss: 0.0377 - categorical_accuracy: 0.9906 - val_loss: 0.1029 - val_categorical_accuracy: 0.9690\n",
            "Epoch 20/20\n",
            "469/469 [==============================] - 3s 7ms/step - loss: 0.0351 - categorical_accuracy: 0.9916 - val_loss: 0.1035 - val_categorical_accuracy: 0.9690\n",
            "  train acc = 0.9915666580200195 val acc = 0.968999981880188\n"
          ]
        }
      ],
      "source": [
        "#CustomOpt = tf.keras.optimizers.Adam(    learning_rate= 10e-3 )\n",
        "nt.compile(loss= tf.keras.losses.CategoricalCrossentropy(), optimizer='adam', metrics=['categorical_accuracy'])\n",
        "history  = nt.fit(X_train, Y_train,epochs=20,validation_data=(X_test, Y_test)  ,verbose=1, batch_size = 128  ) #, callbacks=[callback]\n",
        "print(f\"  train acc = {history.history['categorical_accuracy'][-1]} val acc = {history.history['val_categorical_accuracy'][-1]}\")\n"
      ]
    },
    {
      "cell_type": "code",
      "execution_count": null,
      "metadata": {
        "colab": {
          "base_uri": "https://localhost:8080/"
        },
        "id": "-25tRWCcYT8i",
        "outputId": "1a3ea76a-d68a-48cd-d05f-75be6a6f3f4c"
      },
      "outputs": [
        {
          "name": "stdout",
          "output_type": "stream",
          "text": [
            "layer quality:  0.925662935\n",
            "start: \n",
            "--layer time:  2.0733377933502197\n",
            "--angle time:  4.3787980079650879\n",
            "--layer time:  1.5489799976348877\n",
            "--angle time:  4.3415200710296631\n",
            "endtime:  12.368762016296387\n",
            "Curvature of class 0 is: [0.3710722]\n",
            "layer quality:  0.948050737\n",
            "start: \n",
            "--layer time:  2.0904538631439209\n",
            "--angle time:  4.2576169967651367\n",
            "--layer time:  1.5323469638824463\n",
            "--angle time:  4.4656989574432373\n",
            "endtime:  12.361264944076538\n",
            "Curvature of class 1 is: [0.26963848]\n",
            "Average curvature is: 0.0640710711479187\n",
            "--------------------------------------------------------------------------------------------------\n"
          ]
        }
      ],
      "source": [
        "modelnamelist = [nt]\n",
        "data_at_once = 500\n",
        "number_of_data = 500\n",
        "performancelist = {}\n",
        "for model in modelnamelist:\n",
        "\n",
        "  class_curvature = []\n",
        "  #class_pointcurv = []\n",
        "\n",
        "  for classno in range(2):\n",
        "    outputs = None\n",
        "    for i in range((number_of_data//data_at_once)):\n",
        "\n",
        "        images = X_train[train_y==classno][i*data_at_once:(i+1)*data_at_once]\n",
        "        labels = Y_train[train_y==classno][i*data_at_once:(i+1)*data_at_once]\n",
        "\n",
        "        images, labels\n",
        "        if outputs is None: outputs = model(images)\n",
        "        else: outputs = tf.concat([outputs, model(images)],0)\n",
        "        # the class with the highest energy is what we choose as prediction\n",
        "        #_, predicted = torch.max(outputs.data, 1)\n",
        "        #total += labels.size(0)\n",
        "        #correct += (predicted == labels).sum().item()\n",
        "        #print(f'Accuracy of the network on the {i*batch_size} train images: {100 * correct / total} %')\n",
        "\n",
        "    lowersize = 10\n",
        "    s,u,v = tf.linalg.svd(tf.keras.layers.Flatten()(images))\n",
        "    layerdata = (u[:,:lowersize]*s[:lowersize]).numpy()\n",
        "    tf.print('layer quality: ', tf.norm(s[:lowersize]) / tf.norm(s))\n",
        "    del s,u,v\n",
        "\n",
        "    #perturbations0 = create_adversarial_pattern( model, images, labels)\n",
        "\n",
        "    layerfeatlist = [layerdata]\n",
        "    layerfeatlist.append( outputs )\n",
        "\n",
        "    #layerfeatlist = [ imagesc[labelsc==classno][:number_of_data], outputs ]\n",
        "    #layerfeatlist = [ outputs , curvature_features ]\n",
        "    results,manifold_neighbour_angle_sum =  ManifoldAngles(layerfeatlist, classsize= 1,neighboursize1=5 ,dim_reduc_size=10,fileloc = \"None\")\n",
        "    #class_pointcurv.append([manifold_neighbour_angle_sum])\n",
        "    class_curvature.append([results[0][1].space_linearity_sum.numpy()])\n",
        "    #class_curvature[-1].append(results[0][1].space_linearity_sum.numpy())\n",
        "    print( f'Curvature of class {classno} is: {class_curvature[-1]}')\n",
        "  print( f'Average curvature is: {np.sum(class_curvature)/10}')\n",
        "  performancelist[classno] = class_curvature\n",
        "\n",
        "  #print(\"Overall Time (minutes): \", start.elapsed_time(end)/60000)\n",
        "  print(\"--------------------------------------------------------------------------------------------------\")"
      ]
    },
    {
      "cell_type": "code",
      "execution_count": null,
      "metadata": {
        "id": "hYtAcM988A_Z"
      },
      "outputs": [],
      "source": [
        "@tf.function\n",
        "def compute_hes(model,input,target, lossfunc = tf.keras.losses.CategoricalCrossentropy()):\n",
        "  loss = lossfunc(model(input),target)\n",
        "  hes = tf.hessians(loss, input)\n",
        "  return  hes"
      ]
    },
    {
      "cell_type": "code",
      "execution_count": null,
      "metadata": {
        "id": "go-NE5HQ8IL4"
      },
      "outputs": [],
      "source": [
        " x = tf.convert_to_tensor(images[0:1])"
      ]
    },
    {
      "cell_type": "code",
      "execution_count": null,
      "metadata": {
        "id": "EiL4wg1p8HDU"
      },
      "outputs": [],
      "source": [
        "Hes = compute_hes(nt,X_train[0:1],Y_train[0:1])"
      ]
    },
    {
      "cell_type": "code",
      "execution_count": null,
      "metadata": {
        "colab": {
          "base_uri": "https://localhost:8080/"
        },
        "id": "ivrQdUlrGgZZ",
        "outputId": "c2e6c296-5db9-4489-ff38-9feebd3cc098"
      },
      "outputs": [
        {
          "data": {
            "text/plain": [
              "1"
            ]
          },
          "execution_count": 151,
          "metadata": {},
          "output_type": "execute_result"
        }
      ],
      "source": [
        "len(Hes)"
      ]
    },
    {
      "cell_type": "code",
      "execution_count": null,
      "metadata": {
        "colab": {
          "base_uri": "https://localhost:8080/"
        },
        "id": "mTB_wCJ3CSwZ",
        "outputId": "eb9ae80b-4a89-4083-d93c-bbe02f395e99"
      },
      "outputs": [
        {
          "data": {
            "text/plain": [
              "TensorShape([1, 28, 28, 1, 28, 28])"
            ]
          },
          "execution_count": 152,
          "metadata": {},
          "output_type": "execute_result"
        }
      ],
      "source": [
        "Hes[0].shape"
      ]
    },
    {
      "cell_type": "code",
      "execution_count": null,
      "metadata": {
        "colab": {
          "base_uri": "https://localhost:8080/"
        },
        "id": "GOX1txUmGh2u",
        "outputId": "33cdd1d7-11b9-41cf-d815-e120330021e0"
      },
      "outputs": [
        {
          "data": {
            "text/plain": [
              "226.159089332204"
            ]
          },
          "execution_count": 157,
          "metadata": {},
          "output_type": "execute_result"
        }
      ],
      "source": [
        "np.linalg.norm(Hes[0])"
      ]
    },
    {
      "cell_type": "code",
      "execution_count": null,
      "metadata": {
        "id": "2T3NGXdCGtmJ"
      },
      "outputs": [],
      "source": [
        "Hes1 = get_hessian1(nt,X_train[0:1],Y_train[0:1])"
      ]
    },
    {
      "cell_type": "code",
      "execution_count": null,
      "metadata": {
        "colab": {
          "base_uri": "https://localhost:8080/"
        },
        "id": "5VG_zpn8Gm-h",
        "outputId": "73f8af9c-ccea-4cd7-a946-94054559ca40"
      },
      "outputs": [
        {
          "data": {
            "text/plain": [
              "226.159089332204"
            ]
          },
          "execution_count": 162,
          "metadata": {},
          "output_type": "execute_result"
        }
      ],
      "source": [
        "np.linalg.norm(Hes1[0])"
      ]
    },
    {
      "cell_type": "code",
      "execution_count": null,
      "metadata": {
        "id": "rzpR_wNlGwgI"
      },
      "outputs": [],
      "source": [
        "Hes2 = get_hessian2(nt,X_train[0:1],Y_train[0:1])"
      ]
    },
    {
      "cell_type": "code",
      "execution_count": null,
      "metadata": {
        "colab": {
          "base_uri": "https://localhost:8080/"
        },
        "id": "fdrDGrFaGxF-",
        "outputId": "72455fd7-3117-41cf-f3c4-90a1df69cb50"
      },
      "outputs": [
        {
          "data": {
            "text/plain": [
              "226.15909077101227"
            ]
          },
          "execution_count": 170,
          "metadata": {},
          "output_type": "execute_result"
        }
      ],
      "source": [
        "np.linalg.norm(Hes2[0])"
      ]
    },
    {
      "cell_type": "code",
      "execution_count": null,
      "metadata": {
        "id": "QZ8YAiIxKczw"
      },
      "outputs": [],
      "source": [
        "ModelPreSoftmax = Model(inputs = nt.input, outputs = nt.layers[-2].output )"
      ]
    },
    {
      "cell_type": "code",
      "execution_count": null,
      "metadata": {
        "id": "xdEgnaDYK2JH"
      },
      "outputs": [],
      "source": [
        "Hes_pre1 = get_hessian1(ModelPreSoftmax,X_train[0:10],Y_train[0:10])"
      ]
    },
    {
      "cell_type": "code",
      "execution_count": null,
      "metadata": {
        "colab": {
          "base_uri": "https://localhost:8080/"
        },
        "id": "1oaBUwXJdDjL",
        "outputId": "52083439-8bc9-4615-8945-8f7974415d6d"
      },
      "outputs": [
        {
          "data": {
            "text/plain": [
              "TensorShape([10, 28, 28, 10, 28, 28])"
            ]
          },
          "execution_count": 179,
          "metadata": {},
          "output_type": "execute_result"
        }
      ],
      "source": [
        "Hes_pre1[0].shape"
      ]
    },
    {
      "cell_type": "code",
      "execution_count": null,
      "metadata": {
        "colab": {
          "base_uri": "https://localhost:8080/"
        },
        "id": "-IjYh1XMKzak",
        "outputId": "e5ea67f6-415e-4881-b1de-2db1222e32a5"
      },
      "outputs": [
        {
          "data": {
            "text/plain": [
              "274.3881147116871"
            ]
          },
          "execution_count": 177,
          "metadata": {},
          "output_type": "execute_result"
        }
      ],
      "source": [
        "np.linalg.norm(Hes_pre1[0])"
      ]
    },
    {
      "cell_type": "code",
      "execution_count": null,
      "metadata": {
        "id": "xQ8q2OiwLhZq"
      },
      "outputs": [],
      "source": [
        "Hes_pre2 = get_hessian2(ModelPreSoftmax,x)"
      ]
    },
    {
      "cell_type": "code",
      "execution_count": null,
      "metadata": {
        "colab": {
          "base_uri": "https://localhost:8080/"
        },
        "id": "JfUWCMr4Liv1",
        "outputId": "dcc381e4-6ee3-47d3-bfcd-2b3d4b13dace"
      },
      "outputs": [
        {
          "data": {
            "text/plain": [
              "41.5115644943078"
            ]
          },
          "execution_count": 116,
          "metadata": {},
          "output_type": "execute_result"
        }
      ],
      "source": [
        "np.linalg.norm(Hes_pre2[0])"
      ]
    },
    {
      "cell_type": "code",
      "execution_count": null,
      "metadata": {
        "colab": {
          "base_uri": "https://localhost:8080/"
        },
        "id": "9NXDjtKdGzkT",
        "outputId": "1bf5acff-07c0-48c0-e7cf-38038013486d"
      },
      "outputs": [
        {
          "data": {
            "text/plain": [
              "3.816086309718377e-05"
            ]
          },
          "execution_count": 171,
          "metadata": {},
          "output_type": "execute_result"
        }
      ],
      "source": [
        "np.linalg.norm(Hes1[0]-Hes2[0])"
      ]
    },
    {
      "cell_type": "code",
      "execution_count": null,
      "metadata": {
        "colab": {
          "base_uri": "https://localhost:8080/",
          "height": 448
        },
        "id": "X8vqZkbGIHBY",
        "outputId": "ed8a4b3d-1e64-4988-880b-fbba2ac7820e"
      },
      "outputs": [
        {
          "data": {
            "text/plain": [
              "<matplotlib.image.AxesImage at 0x7fba0b0c0460>"
            ]
          },
          "execution_count": 130,
          "metadata": {},
          "output_type": "execute_result"
        },
        {
          "data": {
            "image/png": "[encoded data removed]",
            "text/plain": [
              "<Figure size 640x480 with 1 Axes>"
            ]
          },
          "metadata": {},
          "output_type": "display_data"
        }
      ],
      "source": [
        "plt.imshow(Hes1[0][0,20,0,0])"
      ]
    },
    {
      "cell_type": "code",
      "execution_count": null,
      "metadata": {
        "colab": {
          "base_uri": "https://localhost:8080/"
        },
        "id": "ilDOgNU1IY16",
        "outputId": "1b31d070-556d-4ef2-ca51-3dffbe31620d"
      },
      "outputs": [
        {
          "data": {
            "text/plain": [
              "(784, 28, 28)"
            ]
          },
          "execution_count": 38,
          "metadata": {},
          "output_type": "execute_result"
        }
      ],
      "source": [
        "Hes1[0].numpy().reshape((28*28,28,28)).shape"
      ]
    },
    {
      "cell_type": "code",
      "execution_count": null,
      "metadata": {
        "colab": {
          "base_uri": "https://localhost:8080/"
        },
        "id": "snn09tfBIRsX",
        "outputId": "7f3d2edb-7dd8-4f5c-e725-48479a28f6c0"
      },
      "outputs": [
        {
          "data": {
            "text/plain": [
              "(784, 784)"
            ]
          },
          "execution_count": 46,
          "metadata": {},
          "output_type": "execute_result"
        }
      ],
      "source": [
        "Hes1[0].numpy().reshape((28*28,28*28)).shape"
      ]
    },
    {
      "cell_type": "code",
      "execution_count": null,
      "metadata": {
        "id": "unhU_W2xJAm3"
      },
      "outputs": [],
      "source": [
        "Hes1[0].numpy().reshape((28*28,28*28))"
      ]
    },
    {
      "cell_type": "code",
      "execution_count": null,
      "metadata": {
        "id": "avjBhT_lJEMY"
      },
      "outputs": [],
      "source": [
        "s,u,v = tf.linalg.svd(Hes1[0].numpy().reshape((28*28,28*28)))"
      ]
    },
    {
      "cell_type": "code",
      "execution_count": null,
      "metadata": {
        "id": "gT010lSGJJSY"
      },
      "outputs": [],
      "source": [
        "plt.plot(s)"
      ]
    },
    {
      "cell_type": "code",
      "execution_count": null,
      "metadata": {
        "colab": {
          "base_uri": "https://localhost:8080/"
        },
        "id": "B4AAgRoCJSyY",
        "outputId": "344ab0ec-5b90-4f3a-b51f-c2cbc552a53a"
      },
      "outputs": [
        {
          "data": {
            "text/plain": [
              "<tf.Tensor: shape=(784,), dtype=float64, numpy=\n",
              "array([3.18873430e-05, 4.17501806e-06, 3.71017225e-06, 2.39645935e-06,\n",
              "       2.12528347e-06, 1.89058309e-06, 1.30415130e-06, 1.25318878e-06,\n",
              "       1.17115774e-06, 1.05713577e-06, 9.36260228e-07, 8.78131115e-07,\n",
              "       8.08015749e-07, 6.12714653e-07, 5.70999061e-07, 5.22917168e-07,\n",
              "       4.93188250e-07, 4.85361987e-07, 4.19544177e-07, 3.80988881e-07,\n",
              "       3.72634862e-07, 3.34367064e-07, 2.93735235e-07, 2.64850745e-07,\n",
              "       2.45178798e-07, 2.01908104e-07, 1.95647180e-07, 1.90192962e-07,\n",
              "       1.41130997e-07, 1.32814888e-07, 1.25847996e-07, 9.51188351e-08,\n",
              "       7.77400171e-08, 7.18586644e-08, 6.17257861e-08, 3.91929122e-08,\n",
              "       3.41542909e-08, 1.73809396e-08, 1.15879389e-08, 6.92659090e-09,\n",
              "       5.45865500e-09, 1.95381544e-09, 4.65795603e-10, 4.05964909e-10,\n",
              "       1.16039992e-10, 2.16208887e-11, 8.02737691e-12, 1.96972393e-12,\n",
              "       7.72858697e-13, 7.10453470e-13, 6.10514538e-13, 5.76377346e-13,\n",
              "       5.35804590e-13, 5.23239933e-13, 4.96240904e-13, 4.91595441e-13,\n",
              "       4.85701005e-13, 4.74364722e-13, 4.50839971e-13, 4.46457367e-13,\n",
              "       4.39504981e-13, 4.34119766e-13, 4.21305097e-13, 4.04238218e-13,\n",
              "       4.03485705e-13, 3.85296691e-13, 3.75310048e-13, 3.69123067e-13,\n",
              "       3.67831370e-13, 3.58289432e-13, 3.55215347e-13, 3.47486458e-13,\n",
              "       3.41851702e-13, 3.26848552e-13, 3.21587506e-13, 3.17358210e-13,\n",
              "       3.15398568e-13, 3.10768499e-13, 3.04126547e-13, 2.98285331e-13,\n",
              "       2.94676473e-13, 2.93685733e-13, 2.93385734e-13, 2.86613163e-13,\n",
              "       2.82226603e-13, 2.80137612e-13, 2.76734399e-13, 2.72461715e-13,\n",
              "       2.69568314e-13, 2.65020532e-13, 2.62132480e-13, 2.57880812e-13,\n",
              "       2.54607868e-13, 2.54027058e-13, 2.49060096e-13, 2.44882143e-13,\n",
              "       2.43296762e-13, 2.38274221e-13, 2.36723389e-13, 2.34924116e-13,\n",
              "       2.33071163e-13, 2.29802530e-13, 2.27687532e-13, 2.25080854e-13,\n",
              "       2.22608044e-13, 2.21092429e-13, 2.19736139e-13, 2.18115356e-13,\n",
              "       2.15041957e-13, 2.11633986e-13, 2.10652887e-13, 2.06716453e-13,\n",
              "       2.06286568e-13, 2.05161080e-13, 2.02534560e-13, 2.02019146e-13,\n",
              "       2.00147783e-13, 1.97730496e-13, 1.96063204e-13, 1.95056053e-13,\n",
              "       1.91755819e-13, 1.91604540e-13, 1.90474587e-13, 1.88394544e-13,\n",
              "       1.86580893e-13, 1.83957886e-13, 1.83096290e-13, 1.81310688e-13,\n",
              "       1.80825245e-13, 1.80383973e-13, 1.78798054e-13, 1.76179577e-13,\n",
              "       1.74220016e-13, 1.73441631e-13, 1.72612290e-13, 1.71368986e-13,\n",
              "       1.70920613e-13, 1.69676126e-13, 1.66304389e-13, 1.66155808e-13,\n",
              "       1.65784635e-13, 1.64154681e-13, 1.63076997e-13, 1.61463274e-13,\n",
              "       1.61040926e-13, 1.58763427e-13, 1.57687243e-13, 1.56733838e-13,\n",
              "       1.54469008e-13, 1.53169265e-13, 1.52830572e-13, 1.51087863e-13,\n",
              "       1.49807331e-13, 1.48940586e-13, 1.48095949e-13, 1.46595937e-13,\n",
              "       1.45562949e-13, 1.44254685e-13, 1.42582691e-13, 1.41225969e-13,\n",
              "       1.40933141e-13, 1.39653665e-13, 1.38969431e-13, 1.38482477e-13,\n",
              "       1.36975759e-13, 1.36179642e-13, 1.35212461e-13, 1.33458710e-13,\n",
              "       1.33133482e-13, 1.31534477e-13, 1.31362521e-13, 1.30141257e-13,\n",
              "       1.29653099e-13, 1.29050420e-13, 1.27715396e-13, 1.27234233e-13,\n",
              "       1.26214481e-13, 1.25509616e-13, 1.24481844e-13, 1.24157427e-13,\n",
              "       1.22662055e-13, 1.21248815e-13, 1.19550056e-13, 1.18616350e-13,\n",
              "       1.18525630e-13, 1.17708160e-13, 1.16415645e-13, 1.15841232e-13,\n",
              "       1.15596081e-13, 1.15091127e-13, 1.14137797e-13, 1.13182848e-13,\n",
              "       1.12832018e-13, 1.12364034e-13, 1.11238477e-13, 1.10798465e-13,\n",
              "       1.10500498e-13, 1.09351699e-13, 1.08386223e-13, 1.08012322e-13,\n",
              "       1.07666143e-13, 1.07038813e-13, 1.06084731e-13, 1.05496242e-13,\n",
              "       1.04766855e-13, 1.04080241e-13, 1.03430592e-13, 1.02565931e-13,\n",
              "       1.02346014e-13, 1.02027585e-13, 1.01195739e-13, 1.00788855e-13,\n",
              "       1.00235487e-13, 9.96176187e-14, 9.92661044e-14, 9.86270961e-14,\n",
              "       9.82596105e-14, 9.76911833e-14, 9.75612206e-14, 9.67833068e-14,\n",
              "       9.66111236e-14, 9.59643609e-14, 9.52634429e-14, 9.42391236e-14,\n",
              "       9.39826128e-14, 9.31750742e-14, 9.29061017e-14, 9.23506152e-14,\n",
              "       9.10176756e-14, 9.09625775e-14, 9.07741691e-14, 8.97154366e-14,\n",
              "       8.95298520e-14, 8.86530909e-14, 8.85325824e-14, 8.80361683e-14,\n",
              "       8.72487638e-14, 8.64361542e-14, 8.61973882e-14, 8.57961523e-14,\n",
              "       8.51198568e-14, 8.49738240e-14, 8.42869825e-14, 8.39810507e-14,\n",
              "       8.33495719e-14, 8.32788925e-14, 8.24461041e-14, 8.15875272e-14,\n",
              "       8.13039128e-14, 8.09673398e-14, 8.07881915e-14, 8.02302982e-14,\n",
              "       7.92090983e-14, 7.90498391e-14, 7.88504050e-14, 7.84982204e-14,\n",
              "       7.81739594e-14, 7.77926551e-14, 7.71911738e-14, 7.68898183e-14,\n",
              "       7.65104478e-14, 7.60537772e-14, 7.57019420e-14, 7.52743971e-14,\n",
              "       7.48198238e-14, 7.44210831e-14, 7.40897357e-14, 7.34478625e-14,\n",
              "       7.28180097e-14, 7.24460002e-14, 7.22653636e-14, 7.19302287e-14,\n",
              "       7.11866945e-14, 7.09474687e-14, 7.06542307e-14, 7.04756902e-14,\n",
              "       7.01087184e-14, 6.95766348e-14, 6.94668658e-14, 6.88976404e-14,\n",
              "       6.85097258e-14, 6.79896056e-14, 6.78076944e-14, 6.74668133e-14,\n",
              "       6.70359042e-14, 6.69393836e-14, 6.67903826e-14, 6.59403291e-14,\n",
              "       6.56443160e-14, 6.52282801e-14, 6.50627037e-14, 6.46555946e-14,\n",
              "       6.43467219e-14, 6.40634719e-14, 6.37113120e-14, 6.35244202e-14,\n",
              "       6.29150973e-14, 6.25801318e-14, 6.24154860e-14, 6.19302749e-14,\n",
              "       6.17909784e-14, 6.15188997e-14, 6.13489334e-14, 6.10981521e-14,\n",
              "       6.04299798e-14, 6.00722939e-14, 5.97533920e-14, 5.96433589e-14,\n",
              "       5.92459922e-14, 5.90269899e-14, 5.87456376e-14, 5.86184061e-14,\n",
              "       5.82916197e-14, 5.79195991e-14, 5.76174469e-14, 5.72841417e-14,\n",
              "       5.71153955e-14, 5.66470324e-14, 5.64671866e-14, 5.60749672e-14,\n",
              "       5.58956158e-14, 5.57610483e-14, 5.51756078e-14, 5.49304791e-14,\n",
              "       5.46506235e-14, 5.40726522e-14, 5.40577502e-14, 5.37535592e-14,\n",
              "       5.35570053e-14, 5.34078096e-14, 5.31167126e-14, 5.28946652e-14,\n",
              "       5.24599896e-14, 5.23857127e-14, 5.21566730e-14, 5.19329522e-14,\n",
              "       5.15225600e-14, 5.12522315e-14, 5.09441353e-14, 5.04911238e-14,\n",
              "       5.02049251e-14, 5.01554174e-14, 4.99858331e-14, 4.95460728e-14,\n",
              "       4.92558517e-14, 4.89849842e-14, 4.87626212e-14, 4.86985685e-14,\n",
              "       4.85455138e-14, 4.83209389e-14, 4.79256410e-14, 4.77697087e-14,\n",
              "       4.76286038e-14, 4.74410393e-14, 4.72422566e-14, 4.68572478e-14,\n",
              "       4.65627333e-14, 4.64020779e-14, 4.63812289e-14, 4.60379469e-14,\n",
              "       4.56818123e-14, 4.55805718e-14, 4.50086124e-14, 4.48933340e-14,\n",
              "       4.47626128e-14, 4.44511443e-14, 4.43047619e-14, 4.39239915e-14,\n",
              "       4.36011297e-14, 4.35106704e-14, 4.33348340e-14, 4.31562819e-14,\n",
              "       4.30459285e-14, 4.26776648e-14, 4.24918946e-14, 4.21636644e-14,\n",
              "       4.20033492e-14, 4.16741360e-14, 4.15454251e-14, 4.13857550e-14,\n",
              "       4.12542948e-14, 4.09369096e-14, 4.05544510e-14, 4.04641754e-14,\n",
              "       4.02040183e-14, 4.01207101e-14, 3.97686942e-14, 3.94775845e-14,\n",
              "       3.93181745e-14, 3.91446316e-14, 3.89230475e-14, 3.87960458e-14,\n",
              "       3.84938260e-14, 3.81555157e-14, 3.80546304e-14, 3.77876063e-14,\n",
              "       3.76368849e-14, 3.74427289e-14, 3.72725675e-14, 3.72463036e-14,\n",
              "       3.69944107e-14, 3.66306134e-14, 3.65491889e-14, 3.64401710e-14,\n",
              "       3.61320009e-14, 3.60362311e-14, 3.59205121e-14, 3.55935931e-14,\n",
              "       3.55199319e-14, 3.51101944e-14, 3.49529671e-14, 3.48067740e-14,\n",
              "       3.47711479e-14, 3.46524126e-14, 3.46057189e-14, 3.43736271e-14,\n",
              "       3.39696201e-14, 3.38310016e-14, 3.35874218e-14, 3.35154438e-14,\n",
              "       3.33203685e-14, 3.31303900e-14, 3.29955240e-14, 3.26534899e-14,\n",
              "       3.25417198e-14, 3.24355151e-14, 3.22751818e-14, 3.21305735e-14,\n",
              "       3.18952894e-14, 3.17766762e-14, 3.14464197e-14, 3.13721950e-14,\n",
              "       3.12065262e-14, 3.10155005e-14, 3.08667029e-14, 3.08382485e-14,\n",
              "       3.05322404e-14, 3.04294711e-14, 3.03904956e-14, 3.01641750e-14,\n",
              "       2.99231947e-14, 2.97222292e-14, 2.95151231e-14, 2.93677193e-14,\n",
              "       2.90838763e-14, 2.90468058e-14, 2.88222809e-14, 2.86541796e-14,\n",
              "       2.85351528e-14, 2.83655900e-14, 2.83245691e-14, 2.80898319e-14,\n",
              "       2.79484881e-14, 2.79012252e-14, 2.77767420e-14, 2.76349006e-14,\n",
              "       2.74841978e-14, 2.72173331e-14, 2.71927618e-14, 2.70403196e-14,\n",
              "       2.67791104e-14, 2.66136372e-14, 2.65549577e-14, 2.63338941e-14,\n",
              "       2.62372552e-14, 2.59134402e-14, 2.57451988e-14, 2.56173682e-14,\n",
              "       2.54910941e-14, 2.53534254e-14, 2.52486004e-14, 2.51379468e-14,\n",
              "       2.49144661e-14, 2.47996608e-14, 2.46735913e-14, 2.44479365e-14,\n",
              "       2.43153366e-14, 2.40298467e-14, 2.39409773e-14, 2.38453450e-14,\n",
              "       2.37051609e-14, 2.36499030e-14, 2.35001234e-14, 2.33466349e-14,\n",
              "       2.33320271e-14, 2.32379526e-14, 2.29701481e-14, 2.28750929e-14,\n",
              "       2.27558582e-14, 2.26364653e-14, 2.25027158e-14, 2.24060028e-14,\n",
              "       2.21367747e-14, 2.20854663e-14, 2.19006366e-14, 2.18509957e-14,\n",
              "       2.17360306e-14, 2.16563003e-14, 2.15637079e-14, 2.12488040e-14,\n",
              "       2.12405585e-14, 2.11048405e-14, 2.09681737e-14, 2.08219688e-14,\n",
              "       2.07304954e-14, 2.06038106e-14, 2.05095394e-14, 2.03464297e-14,\n",
              "       2.02042221e-14, 2.01404034e-14, 1.98751138e-14, 1.97692558e-14,\n",
              "       1.96456491e-14, 1.95048476e-14, 1.94061127e-14, 1.91798868e-14,\n",
              "       1.91304456e-14, 1.89798525e-14, 1.89133415e-14, 1.87385250e-14,\n",
              "       1.85789788e-14, 1.84734922e-14, 1.82960233e-14, 1.82338651e-14,\n",
              "       1.81291507e-14, 1.80124984e-14, 1.79318554e-14, 1.77315719e-14,\n",
              "       1.76924466e-14, 1.75683388e-14, 1.73869059e-14, 1.72603396e-14,\n",
              "       1.70305258e-14, 1.69331898e-14, 1.67850113e-14, 1.67451448e-14,\n",
              "       1.65368007e-14, 1.64336419e-14, 1.64201306e-14, 1.63528329e-14,\n",
              "       1.63144103e-14, 1.62246061e-14, 1.60415309e-14, 1.60063022e-14,\n",
              "       1.58373577e-14, 1.57643413e-14, 1.55697042e-14, 1.55245845e-14,\n",
              "       1.53768516e-14, 1.52561115e-14, 1.51697704e-14, 1.50864783e-14,\n",
              "       1.49266403e-14, 1.48915013e-14, 1.46946373e-14, 1.45267496e-14,\n",
              "       1.43632990e-14, 1.43524203e-14, 1.42793318e-14, 1.42445072e-14,\n",
              "       1.39844726e-14, 1.38101647e-14, 1.36478883e-14, 1.35459494e-14,\n",
              "       1.35397835e-14, 1.33339009e-14, 1.32290826e-14, 1.31305881e-14,\n",
              "       1.30711974e-14, 1.29001986e-14, 1.28351452e-14, 1.26873584e-14,\n",
              "       1.26677919e-14, 1.26309578e-14, 1.23960018e-14, 1.23298359e-14,\n",
              "       1.22550963e-14, 1.21898529e-14, 1.21284445e-14, 1.19070480e-14,\n",
              "       1.18737715e-14, 1.17821246e-14, 1.15177948e-14, 1.14815511e-14,\n",
              "       1.13866237e-14, 1.13323048e-14, 1.12227819e-14, 1.11731720e-14,\n",
              "       1.10566027e-14, 1.09854592e-14, 1.09380966e-14, 1.08556461e-14,\n",
              "       1.08053391e-14, 1.06768181e-14, 1.06021377e-14, 1.04860330e-14,\n",
              "       1.03421199e-14, 1.02379812e-14, 1.02161729e-14, 1.00801817e-14,\n",
              "       9.94089206e-15, 9.87587050e-15, 9.80445525e-15, 9.69580119e-15,\n",
              "       9.61313125e-15, 9.53143650e-15, 9.36411903e-15, 9.31120236e-15,\n",
              "       9.16391181e-15, 9.05751301e-15, 8.95021767e-15, 8.90449480e-15,\n",
              "       8.78727855e-15, 8.72692808e-15, 8.62296557e-15, 8.51235614e-15,\n",
              "       8.48869808e-15, 8.38981249e-15, 8.24009100e-15, 8.11813725e-15,\n",
              "       8.02594769e-15, 7.90765600e-15, 7.80530378e-15, 7.78649931e-15,\n",
              "       7.67136994e-15, 7.56801039e-15, 7.47625802e-15, 7.44369715e-15,\n",
              "       7.29430486e-15, 7.27297284e-15, 7.17704812e-15, 7.11068812e-15,\n",
              "       7.06040310e-15, 6.94013506e-15, 6.91442447e-15, 6.84266235e-15,\n",
              "       6.71737635e-15, 6.69950644e-15, 6.63295113e-15, 6.47491944e-15,\n",
              "       6.35834066e-15, 6.33033863e-15, 6.28169657e-15, 6.21806057e-15,\n",
              "       6.12137034e-15, 5.97122144e-15, 5.92950932e-15, 5.85806752e-15,\n",
              "       5.81985532e-15, 5.64229820e-15, 5.62539039e-15, 5.55603066e-15,\n",
              "       5.49089318e-15, 5.37115178e-15, 5.32869743e-15, 5.24469073e-15,\n",
              "       5.17392077e-15, 5.08604835e-15, 5.04519393e-15, 4.98672704e-15,\n",
              "       4.88938338e-15, 4.77461357e-15, 4.72599241e-15, 4.70400365e-15,\n",
              "       4.67092261e-15, 4.49768501e-15, 4.40858364e-15, 4.36738586e-15,\n",
              "       4.26329490e-15, 4.23505263e-15, 4.20180873e-15, 4.12477763e-15,\n",
              "       4.08623993e-15, 4.03178242e-15, 3.99769106e-15, 3.89220104e-15,\n",
              "       3.87941923e-15, 3.83919793e-15, 3.76909539e-15, 3.67864452e-15,\n",
              "       3.56409646e-15, 3.51985211e-15, 3.43218456e-15, 3.40498324e-15,\n",
              "       3.34784378e-15, 3.22502353e-15, 3.14423004e-15, 3.10273480e-15,\n",
              "       3.05365766e-15, 3.00206831e-15, 2.97980314e-15, 2.93472984e-15,\n",
              "       2.85309070e-15, 2.83860708e-15, 2.72897144e-15, 2.67978327e-15,\n",
              "       2.55235308e-15, 2.51510048e-15, 2.47153175e-15, 2.44530250e-15,\n",
              "       2.36525034e-15, 2.33756657e-15, 2.32805740e-15, 2.30034550e-15,\n",
              "       2.25624270e-15, 2.11581220e-15, 2.11148714e-15, 2.03054139e-15,\n",
              "       1.99989638e-15, 1.97164446e-15, 1.94304379e-15, 1.87648580e-15,\n",
              "       1.83989002e-15, 1.75671096e-15, 1.73487474e-15, 1.70068463e-15,\n",
              "       1.61002201e-15, 1.56213315e-15, 1.55659791e-15, 1.50700139e-15,\n",
              "       1.45810183e-15, 1.43284285e-15, 1.36609097e-15, 1.35366806e-15,\n",
              "       1.29511261e-15, 1.24685654e-15, 1.22979048e-15, 1.17147041e-15,\n",
              "       1.14083422e-15, 1.13003539e-15, 1.11283482e-15, 1.08945100e-15,\n",
              "       1.02740629e-15, 1.01678354e-15, 9.83096713e-16, 9.66159466e-16,\n",
              "       9.43607587e-16, 9.28706837e-16, 8.93061229e-16, 8.45835049e-16,\n",
              "       8.15911268e-16, 7.85602335e-16, 7.51836701e-16, 7.26535629e-16,\n",
              "       7.13186066e-16, 7.02140088e-16, 6.80692766e-16, 6.65553764e-16,\n",
              "       6.21227655e-16, 6.15546046e-16, 5.67996230e-16, 5.64313421e-16,\n",
              "       5.30455861e-16, 5.15342465e-16, 4.81505441e-16, 4.72824263e-16,\n",
              "       4.51887126e-16, 4.31934020e-16, 4.10190888e-16, 3.76604121e-16,\n",
              "       3.53825694e-16, 3.46789310e-16, 3.16342947e-16, 3.04847235e-16,\n",
              "       2.96169841e-16, 2.73954404e-16, 2.65506983e-16, 2.45102581e-16,\n",
              "       2.32394367e-16, 2.13750054e-16, 1.99824798e-16, 1.74519234e-16,\n",
              "       1.64553640e-16, 1.58172737e-16, 1.31784902e-16, 1.27181177e-16,\n",
              "       1.14979882e-16, 9.31273655e-17, 9.10916456e-17, 6.63120817e-17,\n",
              "       4.64903484e-17, 3.64465373e-17, 2.29126720e-17, 6.92039757e-20])>"
            ]
          },
          "execution_count": 122,
          "metadata": {},
          "output_type": "execute_result"
        }
      ],
      "source": [
        "s"
      ]
    },
    {
      "cell_type": "code",
      "execution_count": null,
      "metadata": {
        "colab": {
          "base_uri": "https://localhost:8080/"
        },
        "id": "nqp1Zi8QX5Xw",
        "outputId": "99bfb4c9-f8e1-4ed1-e5c1-0bbfeb103845"
      },
      "outputs": [
        {
          "data": {
            "text/plain": [
              "<tf.Tensor: shape=(), dtype=float32, numpy=0.00021314381>"
            ]
          },
          "execution_count": 141,
          "metadata": {},
          "output_type": "execute_result"
        }
      ],
      "source": [
        "tf.keras.losses.CategoricalCrossentropy()(nt(X_train[1:2]),Y_train[1:2])"
      ]
    },
    {
      "cell_type": "code",
      "execution_count": null,
      "metadata": {
        "colab": {
          "base_uri": "https://localhost:8080/"
        },
        "id": "FRBY4IBxYJl6",
        "outputId": "f462b3ac-a1d4-453b-f060-3e67351272cd"
      },
      "outputs": [
        {
          "data": {
            "text/plain": [
              "<tf.Tensor: shape=(1, 10), dtype=float32, numpy=\n",
              "array([[4.8864699e-08, 2.9483929e-06, 2.0083892e-06, 1.5661824e-01,\n",
              "        1.1212818e-07, 8.4336936e-01, 3.5250746e-08, 5.5383375e-06,\n",
              "        5.9238300e-07, 1.1648099e-06]], dtype=float32)>"
            ]
          },
          "execution_count": 144,
          "metadata": {},
          "output_type": "execute_result"
        }
      ],
      "source": [
        "nt(X_train[0:1])"
      ]
    },
    {
      "cell_type": "code",
      "execution_count": null,
      "metadata": {
        "colab": {
          "base_uri": "https://localhost:8080/"
        },
        "id": "ATU0BYJyYLhB",
        "outputId": "1937e9ec-2a2b-4b8c-940b-52b6ff926548"
      },
      "outputs": [
        {
          "data": {
            "text/plain": [
              "array([[0., 0., 0., 0., 0., 1., 0., 0., 0., 0.]], dtype=float32)"
            ]
          },
          "execution_count": 145,
          "metadata": {},
          "output_type": "execute_result"
        }
      ],
      "source": [
        "Y_train[0:1]"
      ]
    },
    {
      "cell_type": "markdown",
      "metadata": {
        "id": "6skdGZWeYs2X"
      },
      "source": [
        "---------------------"
      ]
    },
    {
      "cell_type": "markdown",
      "metadata": {
        "id": "ww3jeP7MdWNH"
      },
      "source": [
        "Taken from:\n",
        "https://github.com/kuangliu/pytorch-cifar"
      ]
    },
    {
      "cell_type": "code",
      "execution_count": null,
      "metadata": {
        "id": "RLMM81SPYtb8"
      },
      "outputs": [],
      "source": [
        "'''ResNet in PyTorch.\n",
        "\n",
        "For Pre-activation ResNet, see 'preact_resnet.py'.\n",
        "\n",
        "Reference:\n",
        "[1] Kaiming He, Xiangyu Zhang, Shaoqing Ren, Jian Sun\n",
        "    Deep Residual Learning for Image Recognition. arXiv:1512.03385\n",
        "'''\n",
        "import torch\n",
        "import torch.nn as nn\n",
        "import torch.nn.functional as F\n",
        "\n",
        "\n",
        "class BasicBlock(nn.Module):\n",
        "    expansion = 1\n",
        "\n",
        "    def __init__(self, in_planes, planes, stride=1):\n",
        "        super(BasicBlock, self).__init__()\n",
        "        self.conv1 = nn.Conv2d(\n",
        "            in_planes, planes, kernel_size=3, stride=stride, padding=1, bias=False)\n",
        "        self.bn1 = nn.BatchNorm2d(planes)\n",
        "        self.conv2 = nn.Conv2d(planes, planes, kernel_size=3,\n",
        "                               stride=1, padding=1, bias=False)\n",
        "        self.bn2 = nn.BatchNorm2d(planes)\n",
        "\n",
        "        self.shortcut = nn.Sequential()\n",
        "        if stride != 1 or in_planes != self.expansion*planes:\n",
        "            self.shortcut = nn.Sequential(\n",
        "                nn.Conv2d(in_planes, self.expansion*planes,\n",
        "                          kernel_size=1, stride=stride, bias=False),\n",
        "                nn.BatchNorm2d(self.expansion*planes)\n",
        "            )\n",
        "\n",
        "    def forward(self, x):\n",
        "        out = F.relu(self.bn1(self.conv1(x)))\n",
        "        out = self.bn2(self.conv2(out))\n",
        "        out += self.shortcut(x)\n",
        "        out = F.relu(out)\n",
        "        return out\n",
        "\n",
        "\n",
        "class Bottleneck(nn.Module):\n",
        "    expansion = 4\n",
        "\n",
        "    def __init__(self, in_planes, planes, stride=1):\n",
        "        super(Bottleneck, self).__init__()\n",
        "        self.conv1 = nn.Conv2d(in_planes, planes, kernel_size=1, bias=False)\n",
        "        self.bn1 = nn.BatchNorm2d(planes)\n",
        "        self.conv2 = nn.Conv2d(planes, planes, kernel_size=3,\n",
        "                               stride=stride, padding=1, bias=False)\n",
        "        self.bn2 = nn.BatchNorm2d(planes)\n",
        "        self.conv3 = nn.Conv2d(planes, self.expansion *\n",
        "                               planes, kernel_size=1, bias=False)\n",
        "        self.bn3 = nn.BatchNorm2d(self.expansion*planes)\n",
        "\n",
        "        self.shortcut = nn.Sequential()\n",
        "        if stride != 1 or in_planes != self.expansion*planes:\n",
        "            self.shortcut = nn.Sequential(\n",
        "                nn.Conv2d(in_planes, self.expansion*planes,\n",
        "                          kernel_size=1, stride=stride, bias=False),\n",
        "                nn.BatchNorm2d(self.expansion*planes)\n",
        "            )\n",
        "\n",
        "    def forward(self, x):\n",
        "        out = F.relu(self.bn1(self.conv1(x)))\n",
        "        out = F.relu(self.bn2(self.conv2(out)))\n",
        "        out = self.bn3(self.conv3(out))\n",
        "        out += self.shortcut(x)\n",
        "        out = F.relu(out)\n",
        "        return out\n",
        "\n",
        "\n",
        "class ResNet(nn.Module):\n",
        "    def __init__(self, block, num_blocks, num_classes=10):\n",
        "        super(ResNet, self).__init__()\n",
        "        self.in_planes = 64\n",
        "\n",
        "        self.conv1 = nn.Conv2d(3, 64, kernel_size=3,\n",
        "                               stride=1, padding=1, bias=False)\n",
        "        self.bn1 = nn.BatchNorm2d(64)\n",
        "        self.layer1 = self._make_layer(block, 64, num_blocks[0], stride=1)\n",
        "        self.layer2 = self._make_layer(block, 128, num_blocks[1], stride=2)\n",
        "        self.layer3 = self._make_layer(block, 256, num_blocks[2], stride=2)\n",
        "        self.layer4 = self._make_layer(block, 512, num_blocks[3], stride=2)\n",
        "        self.linear = nn.Linear(512*block.expansion, num_classes)\n",
        "\n",
        "    def _make_layer(self, block, planes, num_blocks, stride):\n",
        "        strides = [stride] + [1]*(num_blocks-1)\n",
        "        layers = []\n",
        "        for stride in strides:\n",
        "            layers.append(block(self.in_planes, planes, stride))\n",
        "            self.in_planes = planes * block.expansion\n",
        "        return nn.Sequential(*layers)\n",
        "\n",
        "    def forward(self, x):\n",
        "        out = F.relu(self.bn1(self.conv1(x)))\n",
        "        out = self.layer1(out)\n",
        "        out = self.layer2(out)\n",
        "        out = self.layer3(out)\n",
        "        out = self.layer4(out)\n",
        "        out = F.avg_pool2d(out, 4)\n",
        "        out = out.view(out.size(0), -1)\n",
        "        out = self.linear(out)\n",
        "        return out\n",
        "\n",
        "\n",
        "def ResNet18():\n",
        "    return ResNet(BasicBlock, [2, 2, 2, 2])\n",
        "\n",
        "\n",
        "def ResNet34():\n",
        "    return ResNet(BasicBlock, [3, 4, 6, 3])\n",
        "\n",
        "\n",
        "def ResNet50():\n",
        "    return ResNet(Bottleneck, [3, 4, 6, 3])\n",
        "\n",
        "\n",
        "def ResNet101():\n",
        "    return ResNet(Bottleneck, [3, 4, 23, 3])\n",
        "\n",
        "\n",
        "def ResNet152():\n",
        "    return ResNet(Bottleneck, [3, 8, 36, 3])\n",
        "\n",
        "\n",
        "def test():\n",
        "    net = ResNet18()\n",
        "    y = net(torch.randn(1, 3, 32, 32))\n",
        "    print(y.size())"
      ]
    },
    {
      "cell_type": "code",
      "execution_count": null,
      "metadata": {
        "id": "Kt7QDBddY45X"
      },
      "outputs": [],
      "source": [
        "import torch\n",
        "import torch.nn as nn\n",
        "import torch.optim as optim\n",
        "import torch.nn.functional as F\n",
        "import torch.backends.cudnn as cudnn\n",
        "\n",
        "import torchvision\n",
        "import torchvision.transforms as transforms"
      ]
    },
    {
      "cell_type": "code",
      "execution_count": null,
      "metadata": {
        "id": "vC3zhcD4Y8KM"
      },
      "outputs": [],
      "source": [
        "import os\n",
        "import argparse"
      ]
    },
    {
      "cell_type": "code",
      "execution_count": null,
      "metadata": {
        "colab": {
          "base_uri": "https://localhost:8080/"
        },
        "id": "yylxqBO0ZGiY",
        "outputId": "b2a8d941-8f7f-4744-a7cc-7d9c4c3da35d"
      },
      "outputs": [
        {
          "name": "stdout",
          "output_type": "stream",
          "text": [
            "==> Preparing data..\n",
            "Downloading https://www.cs.toronto.edu/~kriz/cifar-10-python.tar.gz to ./data/cifar-10-python.tar.gz\n"
          ]
        },
        {
          "name": "stderr",
          "output_type": "stream",
          "text": [
            "100%|██████████| 170498071/170498071 [00:02<00:00, 82864685.14it/s]\n"
          ]
        },
        {
          "name": "stdout",
          "output_type": "stream",
          "text": [
            "Extracting ./data/cifar-10-python.tar.gz to ./data\n",
            "Files already downloaded and verified\n"
          ]
        }
      ],
      "source": [
        "#parser = argparse.ArgumentParser(description='PyTorch CIFAR10 Training')\n",
        "#parser.add_argument('--lr', default=0.1, type=float, help='learning rate')\n",
        "#parser.add_argument('--resume', '-r', action='store_true',help='resume from checkpoint')\n",
        "#args = parser.parse_args()\n",
        "\n",
        "device = 'cuda' if torch.cuda.is_available() else 'cpu'\n",
        "best_acc = 0  # best test accuracy\n",
        "start_epoch = 0  # start from epoch 0 or last checkpoint epoch\n",
        "\n",
        "# Data\n",
        "print('==> Preparing data..')\n",
        "transform_train = transforms.Compose([\n",
        "    transforms.RandomCrop(32, padding=4),\n",
        "    transforms.RandomHorizontalFlip(),\n",
        "    transforms.ToTensor(),\n",
        "    transforms.Normalize((0.4914, 0.4822, 0.4465), (0.2023, 0.1994, 0.2010)),\n",
        "])\n",
        "\n",
        "transform_test = transforms.Compose([\n",
        "    transforms.ToTensor(),\n",
        "    transforms.Normalize((0.4914, 0.4822, 0.4465), (0.2023, 0.1994, 0.2010)),\n",
        "])\n",
        "\n",
        "trainset = torchvision.datasets.CIFAR10(\n",
        "    root='./data', train=True, download=True, transform=transform_train)\n",
        "trainloader = torch.utils.data.DataLoader(\n",
        "    trainset, batch_size=128, shuffle=True, num_workers=2)\n",
        "\n",
        "testset = torchvision.datasets.CIFAR10(\n",
        "    root='./data', train=False, download=True, transform=transform_test)\n",
        "testloader = torch.utils.data.DataLoader(\n",
        "    testset, batch_size=100, shuffle=False, num_workers=2)\n",
        "\n",
        "classes = ('plane', 'car', 'bird', 'cat', 'deer',\n",
        "           'dog', 'frog', 'horse', 'ship', 'truck')\n",
        "\n"
      ]
    },
    {
      "cell_type": "code",
      "execution_count": null,
      "metadata": {
        "colab": {
          "base_uri": "https://localhost:8080/"
        },
        "id": "g61j85gYgGok",
        "outputId": "134b1093-f503-4f56-c61e-5eb72e3dd57a"
      },
      "outputs": [
        {
          "name": "stdout",
          "output_type": "stream",
          "text": [
            "==> Building model..\n"
          ]
        }
      ],
      "source": [
        "# Model\n",
        "print('==> Building model..')\n",
        "# net = VGG('VGG19')\n",
        "net = ResNet18()\n",
        "# net = PreActResNet18()\n",
        "# net = GoogLeNet()\n",
        "# net = DenseNet121()\n",
        "# net = ResNeXt29_2x64d()\n",
        "# net = MobileNet()\n",
        "# net = MobileNetV2()\n",
        "# net = DPN92()\n",
        "# net = ShuffleNetG2()\n",
        "# net = SENet18()\n",
        "# net = ShuffleNetV2(1)\n",
        "# net = EfficientNetB0()\n",
        "# net = RegNetX_200MF()\n",
        "# net = SimpleDLA()\n",
        "net = net.to(device)\n",
        "if device == 'cuda':\n",
        "    net = torch.nn.DataParallel(net)\n",
        "    cudnn.benchmark = True\n"
      ]
    },
    {
      "cell_type": "code",
      "execution_count": null,
      "metadata": {
        "id": "3cwyMc1z1Wng"
      },
      "outputs": [],
      "source": [
        "from torchsummary import summary"
      ]
    },
    {
      "cell_type": "code",
      "execution_count": null,
      "metadata": {
        "colab": {
          "base_uri": "https://localhost:8080/"
        },
        "id": "JW94GuER1djf",
        "outputId": "fb6d2ba8-0b1e-4cc4-d990-cf6266de84b8"
      },
      "outputs": [
        {
          "name": "stdout",
          "output_type": "stream",
          "text": [
            "----------------------------------------------------------------\n",
            "        Layer (type)               Output Shape         Param #\n",
            "================================================================\n",
            "            Conv2d-1           [-1, 64, 32, 32]           1,728\n",
            "       BatchNorm2d-2           [-1, 64, 32, 32]             128\n",
            "            Conv2d-3           [-1, 64, 32, 32]          36,864\n",
            "       BatchNorm2d-4           [-1, 64, 32, 32]             128\n",
            "            Conv2d-5           [-1, 64, 32, 32]          36,864\n",
            "       BatchNorm2d-6           [-1, 64, 32, 32]             128\n",
            "        BasicBlock-7           [-1, 64, 32, 32]               0\n",
            "            Conv2d-8           [-1, 64, 32, 32]          36,864\n",
            "       BatchNorm2d-9           [-1, 64, 32, 32]             128\n",
            "           Conv2d-10           [-1, 64, 32, 32]          36,864\n",
            "      BatchNorm2d-11           [-1, 64, 32, 32]             128\n",
            "       BasicBlock-12           [-1, 64, 32, 32]               0\n",
            "           Conv2d-13          [-1, 128, 16, 16]          73,728\n",
            "      BatchNorm2d-14          [-1, 128, 16, 16]             256\n",
            "           Conv2d-15          [-1, 128, 16, 16]         147,456\n",
            "      BatchNorm2d-16          [-1, 128, 16, 16]             256\n",
            "           Conv2d-17          [-1, 128, 16, 16]           8,192\n",
            "      BatchNorm2d-18          [-1, 128, 16, 16]             256\n",
            "       BasicBlock-19          [-1, 128, 16, 16]               0\n",
            "           Conv2d-20          [-1, 128, 16, 16]         147,456\n",
            "      BatchNorm2d-21          [-1, 128, 16, 16]             256\n",
            "           Conv2d-22          [-1, 128, 16, 16]         147,456\n",
            "      BatchNorm2d-23          [-1, 128, 16, 16]             256\n",
            "       BasicBlock-24          [-1, 128, 16, 16]               0\n",
            "           Conv2d-25            [-1, 256, 8, 8]         294,912\n",
            "      BatchNorm2d-26            [-1, 256, 8, 8]             512\n",
            "           Conv2d-27            [-1, 256, 8, 8]         589,824\n",
            "      BatchNorm2d-28            [-1, 256, 8, 8]             512\n",
            "           Conv2d-29            [-1, 256, 8, 8]          32,768\n",
            "      BatchNorm2d-30            [-1, 256, 8, 8]             512\n",
            "       BasicBlock-31            [-1, 256, 8, 8]               0\n",
            "           Conv2d-32            [-1, 256, 8, 8]         589,824\n",
            "      BatchNorm2d-33            [-1, 256, 8, 8]             512\n",
            "           Conv2d-34            [-1, 256, 8, 8]         589,824\n",
            "      BatchNorm2d-35            [-1, 256, 8, 8]             512\n",
            "       BasicBlock-36            [-1, 256, 8, 8]               0\n",
            "           Conv2d-37            [-1, 512, 4, 4]       1,179,648\n",
            "      BatchNorm2d-38            [-1, 512, 4, 4]           1,024\n",
            "           Conv2d-39            [-1, 512, 4, 4]       2,359,296\n",
            "      BatchNorm2d-40            [-1, 512, 4, 4]           1,024\n",
            "           Conv2d-41            [-1, 512, 4, 4]         131,072\n",
            "      BatchNorm2d-42            [-1, 512, 4, 4]           1,024\n",
            "       BasicBlock-43            [-1, 512, 4, 4]               0\n",
            "           Conv2d-44            [-1, 512, 4, 4]       2,359,296\n",
            "      BatchNorm2d-45            [-1, 512, 4, 4]           1,024\n",
            "           Conv2d-46            [-1, 512, 4, 4]       2,359,296\n",
            "      BatchNorm2d-47            [-1, 512, 4, 4]           1,024\n",
            "       BasicBlock-48            [-1, 512, 4, 4]               0\n",
            "           Linear-49                   [-1, 10]           5,130\n",
            "           ResNet-50                   [-1, 10]               0\n",
            "================================================================\n",
            "Total params: 11,173,962\n",
            "Trainable params: 11,173,962\n",
            "Non-trainable params: 0\n",
            "----------------------------------------------------------------\n",
            "Input size (MB): 0.01\n",
            "Forward/backward pass size (MB): 11.25\n",
            "Params size (MB): 42.63\n",
            "Estimated Total Size (MB): 53.89\n",
            "----------------------------------------------------------------\n"
          ]
        }
      ],
      "source": [
        "summary(net,(3,32,32))"
      ]
    },
    {
      "cell_type": "code",
      "execution_count": null,
      "metadata": {
        "colab": {
          "base_uri": "https://localhost:8080/"
        },
        "id": "66JAbhweKPwC",
        "outputId": "a535e7f7-200f-4be0-da10-128e604373c9"
      },
      "outputs": [
        {
          "name": "stdout",
          "output_type": "stream",
          "text": [
            "==> Resuming from checkpoint..\n"
          ]
        }
      ],
      "source": [
        "print('==> Resuming from checkpoint..')\n",
        "#assert os.path.isdir('checkpoint'), 'Error: no checkpoint directory found!'\n",
        "checkpoint = torch.load('./ckpt.pth')\n",
        "net.load_state_dict(checkpoint['net'])\n",
        "best_acc = checkpoint['acc']\n",
        "start_epoch = checkpoint['epoch']"
      ]
    },
    {
      "cell_type": "code",
      "execution_count": null,
      "metadata": {
        "id": "KcPmlJjAZNDC"
      },
      "outputs": [],
      "source": [
        "\n",
        "\n",
        "criterion = nn.CrossEntropyLoss()\n",
        "optimizer = optim.SGD(net.parameters(), lr=0.1,\n",
        "                      momentum=0.9, weight_decay=5e-4)\n",
        "scheduler = torch.optim.lr_scheduler.CosineAnnealingLR(optimizer, T_max=200)\n",
        "\n",
        "def train(epoch):\n",
        "    print('\\nEpoch: %d' % epoch)\n",
        "    net.train()\n",
        "    train_loss = 0\n",
        "    correct = 0\n",
        "    total = 0\n",
        "    for batch_idx, (inputs, targets) in enumerate(trainloader):\n",
        "        inputs, targets = inputs.to(device), targets.to(device)\n",
        "        optimizer.zero_grad()\n",
        "        outputs = net(inputs)\n",
        "        loss = criterion(outputs, targets)\n",
        "        loss.backward()\n",
        "        optimizer.step()\n",
        "\n",
        "        train_loss += loss.item()\n",
        "        _, predicted = outputs.max(1)\n",
        "        total += targets.size(0)\n",
        "        correct += predicted.eq(targets).sum().item()\n",
        "\n",
        "    print('train',100.*correct/total, correct, total)\n",
        "        #progress_bar(batch_idx, len(trainloader), 'Loss: %.3f | Acc: %.3f%% (%d/%d)'  % (train_loss/(batch_idx+1), 100.*correct/total, correct, total))\n",
        "\n",
        "\n",
        "def test(epoch):\n",
        "    global best_acc\n",
        "    net.eval()\n",
        "    test_loss = 0\n",
        "    correct = 0\n",
        "    total = 0\n",
        "    with torch.no_grad():\n",
        "        for batch_idx, (inputs, targets) in enumerate(testloader):\n",
        "            inputs, targets = inputs.to(device), targets.to(device)\n",
        "            outputs = net(inputs)\n",
        "            loss = criterion(outputs, targets)\n",
        "\n",
        "            test_loss += loss.item()\n",
        "            _, predicted = outputs.max(1)\n",
        "            total += targets.size(0)\n",
        "            correct += predicted.eq(targets).sum().item()\n",
        "\n",
        "            #progress_bar(batch_idx, len(testloader), 'Loss: %.3f | Acc: %.3f%% (%d/%d)' % (test_loss/(batch_idx+1), 100.*correct/total, correct, total))\n",
        "\n",
        "    # Save checkpoint.\n",
        "    acc = 100.*correct/total\n",
        "\n",
        "    print('test',100.*correct/total, correct, total)\n",
        "    if acc > best_acc:\n",
        "        print('Saving..')\n",
        "        state = {\n",
        "            'net': net.state_dict(),\n",
        "            'acc': acc,\n",
        "            'epoch': epoch,\n",
        "        }\n",
        "        if not os.path.isdir('checkpoint'):\n",
        "            os.mkdir('checkpoint')\n",
        "        torch.save(state, './checkpoint/ckpt.pth')\n",
        "        best_acc = acc\n",
        "\n"
      ]
    },
    {
      "cell_type": "code",
      "execution_count": null,
      "metadata": {
        "colab": {
          "background_save": true,
          "base_uri": "https://localhost:8080/",
          "height": 1000,
          "referenced_widgets": [
            "8209ff22c35c420cb7fc73a91cc469a2",
            "a3c4e9b3a14443c584dda47cd33a0996",
            "0650f3bdca0547709efbb46d273052d1",
            "ab86f5ac459248438178892a36b633e3",
            "824984b9fa9b4a1d883c3a39b9c3b9e3",
            "76718988543141ff8df01478f03d0384",
            "6661057c162b4e0f8f4ab19585c5e3e1",
            "121501719ae341c28e0d04919892b2e5",
            "2a3306e85a5a43548b9c12370b380bdb",
            "8b71248fa0774e48851ad21dd44e724f",
            "46febf6eb1c24cf5893c8e4f0b350571"
          ]
        },
        "id": "NMp9fz7-sPf2",
        "outputId": "996c1758-f9b3-4045-ea89-bfe1ac4108b9"
      },
      "outputs": [
        {
          "data": {
            "application/vnd.jupyter.widget-view+json": {
              "model_id": "8209ff22c35c420cb7fc73a91cc469a2",
              "version_major": 2,
              "version_minor": 0
            },
            "text/plain": [
              "  0%|          | 0/50 [00:00<?, ?it/s]"
            ]
          },
          "metadata": {},
          "output_type": "display_data"
        },
        {
          "name": "stdout",
          "output_type": "stream",
          "text": [
            "\n",
            "Epoch: 0\n",
            "train 28.974 14487 50000\n",
            "test 40.66 4066 10000\n",
            "Saving..\n",
            "\n",
            "Epoch: 1\n",
            "train 43.35 21675 50000\n",
            "test 49.33 4933 10000\n",
            "Saving..\n",
            "\n",
            "Epoch: 2\n",
            "train 52.784 26392 50000\n",
            "test 56.09 5609 10000\n",
            "Saving..\n",
            "\n",
            "Epoch: 3\n",
            "train 61.378 30689 50000\n",
            "test 62.93 6293 10000\n",
            "Saving..\n",
            "\n",
            "Epoch: 4\n",
            "train 67.25 33625 50000\n",
            "test 67.27 6727 10000\n",
            "Saving..\n",
            "\n",
            "Epoch: 5\n",
            "train 71.846 35923 50000\n",
            "test 70.87 7087 10000\n",
            "Saving..\n",
            "\n",
            "Epoch: 6\n",
            "train 75.15 37575 50000\n",
            "test 72.56 7256 10000\n",
            "Saving..\n",
            "\n",
            "Epoch: 7\n",
            "train 78.1 39050 50000\n",
            "test 74.42 7442 10000\n",
            "Saving..\n",
            "\n",
            "Epoch: 8\n",
            "train 79.494 39747 50000\n",
            "test 76.84 7684 10000\n",
            "Saving..\n",
            "\n",
            "Epoch: 9\n",
            "train 80.996 40498 50000\n",
            "test 71.11 7111 10000\n",
            "\n",
            "Epoch: 10\n",
            "train 81.458 40729 50000\n",
            "test 77.55 7755 10000\n",
            "Saving..\n",
            "\n",
            "Epoch: 11\n",
            "train 82.634 41317 50000\n",
            "test 75.09 7509 10000\n",
            "\n",
            "Epoch: 12\n",
            "train 83.458 41729 50000\n",
            "test 76.66 7666 10000\n",
            "\n",
            "Epoch: 13\n",
            "train 83.854 41927 50000\n",
            "test 79.79 7979 10000\n",
            "Saving..\n",
            "\n",
            "Epoch: 14\n",
            "train 84.266 42133 50000\n",
            "test 80.82 8082 10000\n",
            "Saving..\n",
            "\n",
            "Epoch: 15\n",
            "train 84.51 42255 50000\n",
            "test 78.88 7888 10000\n",
            "\n",
            "Epoch: 16\n",
            "train 85.282 42641 50000\n",
            "test 80.93 8093 10000\n",
            "Saving..\n",
            "\n",
            "Epoch: 17\n",
            "train 85.208 42604 50000\n",
            "test 82.85 8285 10000\n",
            "Saving..\n",
            "\n",
            "Epoch: 18\n",
            "train 85.696 42848 50000\n",
            "test 82.51 8251 10000\n",
            "\n",
            "Epoch: 19\n",
            "train 85.736 42868 50000\n",
            "test 82.22 8222 10000\n",
            "\n",
            "Epoch: 20\n",
            "train 86.152 43076 50000\n",
            "test 83.18 8318 10000\n",
            "Saving..\n",
            "\n",
            "Epoch: 21\n",
            "train 86.126 43063 50000\n",
            "test 80.3 8030 10000\n",
            "\n",
            "Epoch: 22\n",
            "train 86.494 43247 50000\n",
            "test 81.99 8199 10000\n",
            "\n",
            "Epoch: 23\n",
            "train 86.8 43400 50000\n",
            "test 85.23 8523 10000\n",
            "Saving..\n",
            "\n",
            "Epoch: 24\n",
            "train 87.026 43513 50000\n",
            "test 81.5 8150 10000\n",
            "\n",
            "Epoch: 25\n",
            "train 86.996 43498 50000\n",
            "test 81.78 8178 10000\n",
            "\n",
            "Epoch: 26\n",
            "train 87.332 43666 50000\n",
            "test 81.86 8186 10000\n",
            "\n",
            "Epoch: 27\n",
            "train 87.45 43725 50000\n",
            "test 80.36 8036 10000\n",
            "\n",
            "Epoch: 28\n",
            "train 87.656 43828 50000\n",
            "test 81.86 8186 10000\n",
            "\n",
            "Epoch: 29\n",
            "train 87.816 43908 50000\n",
            "test 81.1 8110 10000\n",
            "\n",
            "Epoch: 30\n",
            "train 87.914 43957 50000\n",
            "test 80.1 8010 10000\n",
            "\n",
            "Epoch: 31\n",
            "train 88.018 44009 50000\n",
            "test 84.13 8413 10000\n",
            "\n",
            "Epoch: 32\n",
            "train 88.29 44145 50000\n",
            "test 85.49 8549 10000\n",
            "Saving..\n",
            "\n",
            "Epoch: 33\n",
            "train 88.168 44084 50000\n",
            "test 78.99 7899 10000\n",
            "\n",
            "Epoch: 34\n",
            "train 88.108 44054 50000\n",
            "test 82.94 8294 10000\n",
            "\n",
            "Epoch: 35\n",
            "train 88.648 44324 50000\n",
            "test 82.5 8250 10000\n",
            "\n",
            "Epoch: 36\n",
            "train 88.24 44120 50000\n",
            "test 84.78 8478 10000\n",
            "\n",
            "Epoch: 37\n",
            "train 88.592 44296 50000\n",
            "test 82.62 8262 10000\n",
            "\n",
            "Epoch: 38\n",
            "train 88.424 44212 50000\n",
            "test 85.61 8561 10000\n",
            "Saving..\n",
            "\n",
            "Epoch: 39\n",
            "train 88.85 44425 50000\n",
            "test 85.46 8546 10000\n",
            "\n",
            "Epoch: 40\n",
            "train 88.692 44346 50000\n",
            "test 84.19 8419 10000\n",
            "\n",
            "Epoch: 41\n",
            "train 88.882 44441 50000\n",
            "test 82.91 8291 10000\n",
            "\n",
            "Epoch: 42\n",
            "train 88.928 44464 50000\n",
            "test 86.03 8603 10000\n",
            "Saving..\n",
            "\n",
            "Epoch: 43\n",
            "train 89.02 44510 50000\n",
            "test 83.8 8380 10000\n",
            "\n",
            "Epoch: 44\n",
            "train 89.056 44528 50000\n",
            "test 79.59 7959 10000\n",
            "\n",
            "Epoch: 45\n",
            "train 89.288 44644 50000\n",
            "test 81.71 8171 10000\n",
            "\n",
            "Epoch: 46\n",
            "train 89.138 44569 50000\n",
            "test 86.17 8617 10000\n",
            "Saving..\n",
            "\n",
            "Epoch: 47\n",
            "train 89.318 44659 50000\n",
            "test 85.52 8552 10000\n",
            "\n",
            "Epoch: 48\n",
            "train 89.3 44650 50000\n",
            "test 84.65 8465 10000\n",
            "\n",
            "Epoch: 49\n",
            "train 89.362 44681 50000\n",
            "test 83.34 8334 10000\n"
          ]
        }
      ],
      "source": [
        "for epoch in tqdm(range(start_epoch, start_epoch+50)):\n",
        "    train(epoch)\n",
        "    test(epoch)\n",
        "    scheduler.step()"
      ]
    },
    {
      "cell_type": "code",
      "execution_count": null,
      "metadata": {
        "id": "Kt1MKGdasCie"
      },
      "outputs": [],
      "source": [
        "from functorch import jacrev, jacfwd\n",
        "from functorch import hessian"
      ]
    },
    {
      "cell_type": "code",
      "execution_count": null,
      "metadata": {
        "colab": {
          "base_uri": "https://localhost:8080/"
        },
        "id": "cuytg2r09AEW",
        "outputId": "18982eae-b9e8-434b-e5e7-7cc0528d8601"
      },
      "outputs": [
        {
          "data": {
            "text/plain": [
              "3"
            ]
          },
          "execution_count": 79,
          "metadata": {},
          "output_type": "execute_result"
        }
      ],
      "source": [
        "testloader.dataset.targets[0]"
      ]
    },
    {
      "cell_type": "code",
      "execution_count": null,
      "metadata": {
        "id": "cVdBknD8tO5a"
      },
      "outputs": [],
      "source": [
        "#class Func(torch.autograd.Function):\n"
      ]
    },
    {
      "cell_type": "code",
      "execution_count": null,
      "metadata": {
        "id": "N4uEKwSrxigE"
      },
      "outputs": [],
      "source": [
        "inputs, classes = next(iter(testloader))\n",
        "inputs, classes = inputs.to(device), classes.to(device)"
      ]
    },
    {
      "cell_type": "code",
      "execution_count": null,
      "metadata": {
        "colab": {
          "base_uri": "https://localhost:8080/"
        },
        "id": "hXsSV5LwLWRe",
        "outputId": "2c1d2125-e7f9-419d-de92-f65466eb713f"
      },
      "outputs": [
        {
          "data": {
            "text/plain": [
              "torch.Size([100, 3, 32, 32])"
            ]
          },
          "execution_count": 22,
          "metadata": {},
          "output_type": "execute_result"
        }
      ],
      "source": [
        "inputs.shape"
      ]
    },
    {
      "cell_type": "code",
      "execution_count": null,
      "metadata": {
        "colab": {
          "base_uri": "https://localhost:8080/"
        },
        "id": "UmPLqWn1uxR8",
        "outputId": "344d459b-2546-4776-9190-0686a2187c3a"
      },
      "outputs": [
        {
          "data": {
            "text/plain": [
              "tensor([[ 0.2626, -0.6756,  0.3604,  1.0345, -0.3630,  0.0012,  0.1866, -0.1675,\n",
              "         -0.2898, -0.3495]], device='cuda:0', grad_fn=<AddmmBackward0>)"
            ]
          },
          "execution_count": 55,
          "metadata": {},
          "output_type": "execute_result"
        }
      ],
      "source": [
        "net(inputs[0:1])"
      ]
    },
    {
      "cell_type": "code",
      "execution_count": null,
      "metadata": {
        "id": "FQdXYWHoypI_"
      },
      "outputs": [],
      "source": [
        "hess_fwdfwd = hessian(f)(inputs[0:1])"
      ]
    },
    {
      "cell_type": "code",
      "execution_count": null,
      "metadata": {
        "id": "5pdHqQwh81zq"
      },
      "outputs": [],
      "source": [
        "J = torch.autograd.functional.jacobian(f, inputs[0:1])"
      ]
    },
    {
      "cell_type": "code",
      "execution_count": null,
      "metadata": {
        "colab": {
          "base_uri": "https://localhost:8080/"
        },
        "id": "yCQzVqEB9ttI",
        "outputId": "4b28229f-a984-4bb4-ce24-5d359f981c9d"
      },
      "outputs": [
        {
          "data": {
            "text/plain": [
              "torch.Size([1, 3, 32, 32])"
            ]
          },
          "execution_count": 92,
          "metadata": {},
          "output_type": "execute_result"
        }
      ],
      "source": [
        "J.shape"
      ]
    },
    {
      "cell_type": "code",
      "execution_count": null,
      "metadata": {
        "id": "h8TWxEpnLQGG"
      },
      "outputs": [],
      "source": [
        "H = torch.autograd.functional.hessian(f, inputs[0:1])"
      ]
    },
    {
      "cell_type": "code",
      "execution_count": null,
      "metadata": {
        "colab": {
          "base_uri": "https://localhost:8080/"
        },
        "id": "ZBAtHbnjR88Z",
        "outputId": "74e8ec21-03ed-4af0-d5aa-5760eb682291"
      },
      "outputs": [
        {
          "name": "stdout",
          "output_type": "stream",
          "text": [
            "Files already downloaded and verified\n"
          ]
        }
      ],
      "source": [
        "trainset = torchvision.datasets.CIFAR10(\n",
        "    root='./data', train=True, download=True, transform=transform_train)\n",
        "trainloader2 = torch.utils.data.DataLoader(\n",
        "    trainset, batch_size=1, shuffle=False, num_workers=2)"
      ]
    },
    {
      "cell_type": "code",
      "execution_count": null,
      "metadata": {
        "id": "zpE4pMSqSK_g"
      },
      "outputs": [],
      "source": [
        "datasetonebyone_inputs = []\n",
        "datasetonebyone_targets = []\n",
        "for batch_idx, (inputs, targets) in tqdm(enumerate(trainloader2 )):\n",
        "  datasetonebyone_inputs.append(inputs)\n",
        "  datasetonebyone_targets.append(targets)"
      ]
    },
    {
      "cell_type": "code",
      "execution_count": null,
      "metadata": {
        "id": "EwnqURGSMXyH"
      },
      "outputs": [],
      "source": [
        "def f(x):\n",
        "  return criterion(net(x), TARGET)"
      ]
    },
    {
      "cell_type": "code",
      "execution_count": null,
      "metadata": {
        "colab": {
          "base_uri": "https://localhost:8080/"
        },
        "id": "RwF35uAQV7Dh",
        "outputId": "06875700-3d2b-4d18-90bd-b7d12ca60580"
      },
      "outputs": [
        {
          "name": "stdout",
          "output_type": "stream",
          "text": [
            "Collecting pyhessian\n",
            "  Downloading PyHessian-0.1-py3-none-any.whl (6.8 kB)\n",
            "Requirement already satisfied: numpy in /usr/local/lib/python3.10/dist-packages (from pyhessian) (1.23.5)\n",
            "Requirement already satisfied: torch in /usr/local/lib/python3.10/dist-packages (from pyhessian) (2.0.1+cu118)\n",
            "Requirement already satisfied: filelock in /usr/local/lib/python3.10/dist-packages (from torch->pyhessian) (3.12.2)\n",
            "Requirement already satisfied: typing-extensions in /usr/local/lib/python3.10/dist-packages (from torch->pyhessian) (4.7.1)\n",
            "Requirement already satisfied: sympy in /usr/local/lib/python3.10/dist-packages (from torch->pyhessian) (1.12)\n",
            "Requirement already satisfied: networkx in /usr/local/lib/python3.10/dist-packages (from torch->pyhessian) (3.1)\n",
            "Requirement already satisfied: jinja2 in /usr/local/lib/python3.10/dist-packages (from torch->pyhessian) (3.1.2)\n",
            "Requirement already satisfied: triton==2.0.0 in /usr/local/lib/python3.10/dist-packages (from torch->pyhessian) (2.0.0)\n",
            "Requirement already satisfied: cmake in /usr/local/lib/python3.10/dist-packages (from triton==2.0.0->torch->pyhessian) (3.27.2)\n",
            "Requirement already satisfied: lit in /usr/local/lib/python3.10/dist-packages (from triton==2.0.0->torch->pyhessian) (16.0.6)\n",
            "Requirement already satisfied: MarkupSafe>=2.0 in /usr/local/lib/python3.10/dist-packages (from jinja2->torch->pyhessian) (2.1.3)\n",
            "Requirement already satisfied: mpmath>=0.19 in /usr/local/lib/python3.10/dist-packages (from sympy->torch->pyhessian) (1.3.0)\n",
            "Installing collected packages: pyhessian\n",
            "Successfully installed pyhessian-0.1\n"
          ]
        }
      ],
      "source": [
        "pip install pyhessian"
      ]
    },
    {
      "cell_type": "code",
      "execution_count": null,
      "metadata": {
        "id": "56PchxA_WRso"
      },
      "outputs": [],
      "source": [
        "import pyhessian"
      ]
    },
    {
      "cell_type": "code",
      "execution_count": null,
      "metadata": {
        "id": "hpiOlqNiV5Fh"
      },
      "outputs": [],
      "source": [
        "from pyhessian import hessian"
      ]
    },
    {
      "cell_type": "code",
      "execution_count": null,
      "metadata": {
        "colab": {
          "base_uri": "https://localhost:8080/",
          "height": 49,
          "referenced_widgets": [
            "90a3b56982d245fd9cd59958d796c459",
            "3f3196004e9540d09453f277979e2f2b",
            "89dcdd2319704a0d9b67a5645110f994",
            "7c4f033aae7444d0bcf1069a2c12533b",
            "86903b906b404ca1a3374cd78cf07a13",
            "602a6df0870c4da28bc090fb651f93a2",
            "fc24e25821784461a5ab96f6c730f682",
            "1102c8b14a92418a9a283322e820d100",
            "8f091dae56f34a70b71567dd2ac4edec",
            "5156530c7bcf45ceb352189f1f9dd646",
            "66d03f93ff544b4997a0c6a9c4c36d4e"
          ]
        },
        "id": "o4jUtapyXCjl",
        "outputId": "a324587a-eca8-49c9-ff9b-3c0265ddeb8b"
      },
      "outputs": [
        {
          "data": {
            "application/vnd.jupyter.widget-view+json": {
              "model_id": "90a3b56982d245fd9cd59958d796c459",
              "version_major": 2,
              "version_minor": 0
            },
            "text/plain": [
              "0it [00:00, ?it/s]"
            ]
          },
          "metadata": {},
          "output_type": "display_data"
        }
      ],
      "source": [
        "hessian_dataloader = []\n",
        "for i, (inputs, labels) in tqdm(enumerate(trainloader2)):\n",
        "  hessian_comp = pyhessian.hessian(net, criterion, data=(inputs, labels))\n",
        "  top_eigenvalues, top_eigenvector = hessian_comp.eigenvalues(top_n=10)"
      ]
    },
    {
      "cell_type": "code",
      "execution_count": null,
      "metadata": {
        "colab": {
          "base_uri": "https://localhost:8080/"
        },
        "id": "1SXBpGsQWF4Y",
        "outputId": "879c586e-eb39-4a50-ac09-382396fc62c1"
      },
      "outputs": [
        {
          "name": "stderr",
          "output_type": "stream",
          "text": [
            "/usr/local/lib/python3.10/dist-packages/torch/autograd/__init__.py:200: UserWarning: Using backward() with create_graph=True will create a reference cycle between the parameter and its gradient which can cause a memory leak. We recommend using autograd.grad when creating the graph to avoid this. If you have to use this function, make sure to reset the .grad fields of your parameters to None after use to break the cycle and avoid the leak. (Triggered internally at ../torch/csrc/autograd/engine.cpp:1151.)\n",
            "  Variable._execution_engine.run_backward(  # Calls into the C++ engine to run the backward pass\n"
          ]
        }
      ],
      "source": [
        "hessian_comp = pyhessian.hessian(net, criterion, data=(inputs, labels))"
      ]
    },
    {
      "cell_type": "code",
      "execution_count": null,
      "metadata": {
        "colab": {
          "base_uri": "https://localhost:8080/"
        },
        "id": "FGKR1-2vYTyf",
        "outputId": "530726bb-a339-45bf-d0ea-a2e9ba58cf9e"
      },
      "outputs": [
        {
          "name": "stderr",
          "output_type": "stream",
          "text": [
            "Exception ignored in: <function _MultiProcessingDataLoaderIter.__del__ at 0x7e84b6923880>\n",
            "Traceback (most recent call last):\n",
            "  File \"/usr/local/lib/python3.10/dist-packages/torch/utils/data/dataloader.py\", line 1478, in __del__\n",
            "    self._shutdown_workers()\n",
            "  File \"/usr/local/lib/python3.10/dist-packages/torch/utils/data/dataloader.py\", line 1409, in _shutdown_workers\n",
            "    if not self._shutdown:\n",
            "AttributeError: '_MultiProcessingDataLoaderIter' object has no attribute '_shutdown'\n"
          ]
        }
      ],
      "source": [
        "top_eigenvalues, top_eigenvector = hessian_comp.eigenvalues(top_n=10)"
      ]
    },
    {
      "cell_type": "code",
      "execution_count": null,
      "metadata": {
        "colab": {
          "base_uri": "https://localhost:8080/"
        },
        "id": "4Uh6hkBIYqIA",
        "outputId": "445af997-151b-4ecc-e07f-b01ab6df4561"
      },
      "outputs": [
        {
          "data": {
            "text/plain": [
              "[0.4492744207382202,\n",
              " 0.02009313926100731,\n",
              " -0.01655537635087967,\n",
              " 0.015344669111073017,\n",
              " -0.01541403029114008,\n",
              " 0.014591519720852375,\n",
              " -0.013745563104748726,\n",
              " 0.012867540121078491,\n",
              " -0.013288615271449089,\n",
              " 0.012727436609566212]"
            ]
          },
          "execution_count": 103,
          "metadata": {},
          "output_type": "execute_result"
        }
      ],
      "source": [
        "top_eigenvalues"
      ]
    },
    {
      "cell_type": "code",
      "execution_count": null,
      "metadata": {
        "id": "UuOBkcBY9vqM"
      },
      "outputs": [],
      "source": [
        "HessianNormList = []\n",
        "TargetList = []\n",
        "idx_list = []\n",
        "for batch_idx, (inputs, targets) in tqdm(enumerate(trainloader2 )):\n",
        "  idx_list.append(batch_idx)\n",
        "  TargetList.append(targets)\n",
        "  inputs, targets = inputs.to(device), targets.to(device)\n",
        "  TARGET = targets\n",
        "  H = torch.autograd.functional.hessian(f, inputs) #, vectorize=True, outer_jacobian_strategy='forward-mode'\n",
        "  HessianNormList.append( torch.linalg.norm(H).to('cpu').detach().numpy() )\n",
        "  print(idx_list[-1], TargetList[-1], HessianNormList[-1])"
      ]
    },
    {
      "cell_type": "code",
      "execution_count": null,
      "metadata": {
        "id": "gxKhFaWKZip5"
      },
      "outputs": [],
      "source": [
        "HessianNormList = []\n",
        "TargetList = []\n",
        "idx_list = []\n",
        "for i, (inputs, labels) in tqdm(enumerate(trainloader2)):\n",
        "  idx_list.append(i)\n",
        "  TargetList.append(labels)\n",
        "  hessian_comp = pyhessian.hessian(net, criterion, data=(inputs, labels))\n",
        "  top_eigenvalues, top_eigenvector = hessian_comp.eigenvalues(top_n=3)\n",
        "  HessianNormList.append( top_eigenvalues )\n",
        "\n",
        "  inputs, targets = inputs.to(device), labels.to(device)\n",
        "  TARGET = targets\n",
        "  H = torch.autograd.functional.hessian(f, inputs) #, vectorize=True, outer_jacobian_strategy='forward-mode'\n",
        "\n",
        "  print( torch.linalg.norm(H).to('cpu').detach().numpy() )\n",
        "  print(idx_list[-1], TargetList[-1], HessianNormList[-1], np.linalg.norm(HessianNormList[-1]))"
      ]
    },
    {
      "cell_type": "code",
      "execution_count": null,
      "metadata": {
        "colab": {
          "base_uri": "https://localhost:8080/"
        },
        "id": "fQmPXuq1dsHy",
        "outputId": "c96df1f5-7dc2-483f-d6e0-d4fe477b37ac"
      },
      "outputs": [
        {
          "data": {
            "text/plain": [
              "tensor([-2.4291, -2.4291, -2.4291, -2.4291, -2.4291], device='cuda:0')"
            ]
          },
          "execution_count": 114,
          "metadata": {},
          "output_type": "execute_result"
        }
      ],
      "source": [
        "inputs[0,0,0,0:5]"
      ]
    },
    {
      "cell_type": "code",
      "execution_count": null,
      "metadata": {
        "colab": {
          "base_uri": "https://localhost:8080/",
          "height": 466
        },
        "id": "smbwTMUdeTHE",
        "outputId": "6e7d2549-4dfa-416a-d4d2-aa19269223c7"
      },
      "outputs": [
        {
          "name": "stderr",
          "output_type": "stream",
          "text": [
            "WARNING:matplotlib.image:Clipping input data to the valid range for imshow with RGB data ([0..1] for floats or [0..255] for integers).\n"
          ]
        },
        {
          "data": {
            "text/plain": [
              "<matplotlib.image.AxesImage at 0x7e83eab073d0>"
            ]
          },
          "execution_count": 129,
          "metadata": {},
          "output_type": "execute_result"
        },
        {
          "data": {
            "image/png": "[encoded data removed]",
            "text/plain": [
              "<Figure size 640x480 with 1 Axes>"
            ]
          },
          "metadata": {},
          "output_type": "display_data"
        }
      ],
      "source": [
        "plt.imshow(np.transpose(inputs.cpu()[0],[1,2,0]))"
      ]
    },
    {
      "cell_type": "code",
      "execution_count": null,
      "metadata": {
        "colab": {
          "base_uri": "https://localhost:8080/",
          "height": 484
        },
        "id": "1nwhUj-4e8Ng",
        "outputId": "09a3159b-dcee-49e8-8f71-be548eb8cab2"
      },
      "outputs": [
        {
          "name": "stderr",
          "output_type": "stream",
          "text": [
            "WARNING:matplotlib.image:Clipping input data to the valid range for imshow with RGB data ([0..1] for floats or [0..255] for integers).\n"
          ]
        },
        {
          "name": "stdout",
          "output_type": "stream",
          "text": [
            "tensor([6])\n"
          ]
        },
        {
          "data": {
            "text/plain": [
              "<matplotlib.image.AxesImage at 0x7e83e8e259f0>"
            ]
          },
          "execution_count": 148,
          "metadata": {},
          "output_type": "execute_result"
        },
        {
          "data": {
            "image/png": "[encoded data removed]",
            "text/plain": [
              "<Figure size 640x480 with 1 Axes>"
            ]
          },
          "metadata": {},
          "output_type": "display_data"
        }
      ],
      "source": [
        "inputs, classes = next(iter(trainloader2))\n",
        "print( classes)\n",
        "plt.imshow(np.transpose(inputs.cpu()[0],[1,2,0]))"
      ]
    },
    {
      "cell_type": "code",
      "execution_count": null,
      "metadata": {
        "colab": {
          "base_uri": "https://localhost:8080/",
          "height": 1000,
          "referenced_widgets": [
            "04f2e74b1aed4815823b2958f89b2dea",
            "e71bb62ca1a84585b6657742063abbbe",
            "d609c303f51b48099622dc3c372d77b4",
            "d6c4ebe96871480980bf05de9cc854bb",
            "7f69f9a5d9e84f90b36c9ab3f34c2260",
            "03538c35e8254277936afd95516b2f18",
            "1bc09c7c7f8b410d85f1f6de5a96d75b",
            "d7786e1234a3465c95073a1b9871bd4b",
            "c0a7ebcbfa6e42369a33527ed3153e62",
            "d0f76ef2b0aa420fb120aa3f716d4bf2",
            "a18fbc528bca457a83e704545ea76dc1"
          ]
        },
        "id": "xeFX-se_dYWt",
        "outputId": "f002f1a7-deaa-4b9f-f71d-5ddbd4cd3e6b"
      },
      "outputs": [
        {
          "data": {
            "application/vnd.jupyter.widget-view+json": {
              "model_id": "04f2e74b1aed4815823b2958f89b2dea",
              "version_major": 2,
              "version_minor": 0
            },
            "text/plain": [
              "0it [00:00, ?it/s]"
            ]
          },
          "metadata": {},
          "output_type": "display_data"
        },
        {
          "name": "stdout",
          "output_type": "stream",
          "text": [
            "0 tensor([6]) [796.90478515625, 24.930774688720703, 16.30291748046875] 797.4613252377094 7.159398\n",
            "1 tensor([9]) [0.9721747636795044, 0.07527964562177658, 0.030514532700181007] 0.9755623675020223 0.0034162947\n",
            "2 tensor([9]) [138.4568634033203, 14.011622428894043, 4.515111446380615] 139.23726088209588 2.6735175\n",
            "3 tensor([4]) [1.4332536458969116, 0.2532091736793518, 0.09408221393823624] 1.4584863256443956 0.01997391\n",
            "4 tensor([1]) [0.12185072898864746, 0.005017957184463739, -0.004131587687879801] 0.1220239733257058 0.0005940379\n",
            "5 tensor([1]) [16.81159782409668, 2.3511781692504883, 0.8059444427490234] 16.994334545004413 0.07002383\n",
            "6 tensor([2]) [135.75399780273438, 7.477521896362305, -3.1148698329925537] 135.9954545829083 1.1339691\n",
            "7 tensor([7]) [1.3645460605621338, 0.0777541920542717, 0.05203309282660484] 1.3677496512617917 0.0098133655\n",
            "8 tensor([8]) [4.2323222160339355, 0.18742252886295319, -0.14788207411766052] 4.239050324365722 0.03616028\n",
            "9 tensor([3]) [916.1957397460938, 121.5904769897461, 107.89830017089844] 930.5057338905845 18.821386\n",
            "10 tensor([4]) [20.509780883789062, 1.982189655303955, 1.279952049255371] 20.64505909361914 0.27143303\n"
          ]
        },
        {
          "data": {
            "image/png": "[encoded data removed]",
            "text/plain": [
              "<Figure size 640x480 with 1 Axes>"
            ]
          },
          "metadata": {},
          "output_type": "display_data"
        },
        {
          "data": {
            "image/png": "[encoded data removed]",
            "text/plain": [
              "<Figure size 640x480 with 1 Axes>"
            ]
          },
          "metadata": {},
          "output_type": "display_data"
        }
      ],
      "source": [
        "HessianEigList = []\n",
        "HessianEigNormList = []\n",
        "TargetList = []\n",
        "idx_list = []\n",
        "HessianNormList_Functional = []\n",
        "for i, (inputs, labels) in tqdm(enumerate(trainloader2)):\n",
        "  idx_list.append(i)\n",
        "  TargetList.append(labels)\n",
        "  hessian_comp = pyhessian.hessian(net, criterion, data=(inputs, labels))\n",
        "  top_eigenvalues, top_eigenvector = hessian_comp.eigenvalues(top_n=3)\n",
        "  HessianEigList.append( top_eigenvalues )\n",
        "  HessianEigNormList.append( np.linalg.norm(HessianEigList[-1])  )\n",
        "  inputs, targets = inputs.to(device), labels.to(device)\n",
        "  TARGET = targets\n",
        "  H = torch.autograd.functional.hessian(f, inputs) #, vectorize=True, outer_jacobian_strategy='forward-mode'\n",
        "  HessianNormList_Functional.append( torch.linalg.norm(H).to('cpu').detach().numpy() )\n",
        "  print(idx_list[-1], TargetList[-1], HessianEigList[-1], HessianEigNormList[-1], HessianNormList_Functional[-1])\n",
        "  if i == 10:\n",
        "    break\n",
        "plt.plot(HessianNormList_Functional)\n",
        "plt.show()\n",
        "plt.plot(HessianEigNormList)\n",
        "plt.show()"
      ]
    },
    {
      "cell_type": "code",
      "execution_count": null,
      "metadata": {
        "colab": {
          "base_uri": "https://localhost:8080/",
          "height": 1000,
          "referenced_widgets": [
            "592d7bdf3408426d98f36eb7e4b8552c",
            "7e89322bda794ba88ea87a2ae1f63fdc",
            "eb9b2ed963d64ae2bf1cb5faa3ba1150",
            "7136192104c841b593c23e90d8af2af8",
            "9f81ab27ab47409d9ef099f555d9945d",
            "d114aa5f7fb24276b7048e0f60fb7356",
            "3676b5f620874e18a0cb6ff857649a02",
            "8ddcc53b81664b2892ca35b2c0557f51",
            "5a5a5a04e37f46bebc8914955f5eb911",
            "4d5fbae313a2482897c3471f2482e3e4",
            "eb3c06e17fb04658a0f3f65af534d55b"
          ]
        },
        "id": "fjWSizHwbzwE",
        "outputId": "e39408ae-9a42-4689-d3f2-4f0961f10233"
      },
      "outputs": [
        {
          "data": {
            "application/vnd.jupyter.widget-view+json": {
              "model_id": "592d7bdf3408426d98f36eb7e4b8552c",
              "version_major": 2,
              "version_minor": 0
            },
            "text/plain": [
              "0it [00:00, ?it/s]"
            ]
          },
          "metadata": {},
          "output_type": "display_data"
        },
        {
          "name": "stdout",
          "output_type": "stream",
          "text": [
            "0 tensor([6]) [964.2161254882812, 71.45519256591797, 30.078527450561523] 967.3279170011891 11.543627\n",
            "1 tensor([9]) [0.02241084910929203, 0.002536279847845435, -0.0006908608484081924] 0.02256448895893513 7.740457e-05\n",
            "2 tensor([9]) [3199.048583984375, 115.48558044433594, 96.9464111328125] 3202.6000950188163 79.95263\n",
            "3 tensor([4]) [11.144478797912598, 1.6996101140975952, 0.5940141677856445] 11.288974047653593 0.14565153\n",
            "4 tensor([1]) [0.07232826203107834, 0.0036793192848563194, -0.0020689312368631363] 0.07245133094222019 0.0004257156\n",
            "5 tensor([1]) [221.71142578125, 22.28154182434082, 8.02778148651123] 222.97279812483796 1.0512102\n",
            "6 tensor([2]) [2.5318164825439453, 0.12653689086437225, 0.06530006229877472] 2.535817498197976 0.0150318025\n",
            "7 tensor([7]) [3.6181535720825195, 0.2340555489063263, 0.13570953905582428] 3.6282550007046197 0.024247121\n",
            "8 tensor([8]) [25.790340423583984, 0.6948445439338684, -0.18846476078033447] 25.800387343422596 0.1464796\n",
            "9 tensor([3]) [1199.2750244140625, 149.6530303955078, 82.03170013427734] 1211.3570132363245 23.118969\n",
            "10 tensor([4]) [181.3560791015625, 18.805591583251953, 13.854984283447266] 182.85414485699482 3.972148\n"
          ]
        },
        {
          "data": {
            "image/png": "[encoded data removed]",
            "text/plain": [
              "<Figure size 640x480 with 1 Axes>"
            ]
          },
          "metadata": {},
          "output_type": "display_data"
        },
        {
          "data": {
            "image/png": "[encoded data removed]",
            "text/plain": [
              "<Figure size 640x480 with 1 Axes>"
            ]
          },
          "metadata": {},
          "output_type": "display_data"
        }
      ],
      "source": [
        "HessianEigList = []\n",
        "HessianEigNormList = []\n",
        "TargetList = []\n",
        "idx_list = []\n",
        "HessianNormList_Functional = []\n",
        "for i, (inputs, labels) in tqdm(enumerate(trainloader2)):\n",
        "  idx_list.append(i)\n",
        "  TargetList.append(labels)\n",
        "  hessian_comp = pyhessian.hessian(net, criterion, data=(inputs, labels))\n",
        "  top_eigenvalues, top_eigenvector = hessian_comp.eigenvalues(top_n=3)\n",
        "  HessianEigList.append( top_eigenvalues )\n",
        "  HessianEigNormList.append( np.linalg.norm(HessianEigList[-1])  )\n",
        "  inputs, targets = inputs.to(device), labels.to(device)\n",
        "  TARGET = targets\n",
        "  H = torch.autograd.functional.hessian(f, inputs) #, vectorize=True, outer_jacobian_strategy='forward-mode'\n",
        "  HessianNormList_Functional.append( torch.linalg.norm(H).to('cpu').detach().numpy() )\n",
        "  print(idx_list[-1], TargetList[-1], HessianEigList[-1], HessianEigNormList[-1], HessianNormList_Functional[-1])\n",
        "  if i == 10:\n",
        "    break\n",
        "plt.plot(HessianNormList_Functional)\n",
        "plt.show()\n",
        "plt.plot(HessianEigNormList)\n",
        "plt.show()"
      ]
    },
    {
      "cell_type": "code",
      "execution_count": null,
      "metadata": {
        "colab": {
          "base_uri": "https://localhost:8080/",
          "height": 1000,
          "referenced_widgets": [
            "4fe8efd9f8c847c4b0dd6c52f31d7e6d",
            "d6e60957485a4ef4bafee8537703ae24",
            "8d758047a53f4526878ad7fabaa7e87f",
            "0301136b87fb4540a99d5d0bd91a3fc5",
            "c61a89ada7d149608dab64e6f19bb635",
            "e16e33447f25498e881b46cff8fa6870",
            "d71a87c1fc1f43e3bdf70fc48bfb41ab",
            "c687505568984693944b0efd0c8b43db",
            "09592dd8c8a54397bb8cadbd1c03657c",
            "a71fec21501045cbb08453626e077dc9",
            "ea2380af3f474aebbf5ab69e73fc9280"
          ]
        },
        "id": "M5j_-YOMgZ-7",
        "outputId": "b84e2c93-c4f2-4c40-ed2e-fea56449167d"
      },
      "outputs": [
        {
          "data": {
            "application/vnd.jupyter.widget-view+json": {
              "model_id": "4fe8efd9f8c847c4b0dd6c52f31d7e6d",
              "version_major": 2,
              "version_minor": 0
            },
            "text/plain": [
              "0it [00:00, ?it/s]"
            ]
          },
          "metadata": {},
          "output_type": "display_data"
        },
        {
          "name": "stdout",
          "output_type": "stream",
          "text": [
            "0 tensor([6]) [95.06463623046875, 5.476563453674316, 3.4372012615203857] 95.28427027272481 0.85740805\n",
            "1 tensor([9]) [0.9031388759613037, 0.09838169068098068, 0.034472204744815826] 0.9091353690369018 0.003054751\n",
            "2 tensor([9]) [1828.1573486328125, 87.42086029052734, -56.6279182434082] 1831.1221748694632 41.528976\n",
            "3 tensor([4]) [0.44347113370895386, 0.06010127440094948, 0.03919098898768425] 0.44923795836455743 0.005626302\n",
            "4 tensor([1]) [0.42040586471557617, 0.023524867370724678, 0.001852862536907196] 0.42106762351389854 0.002051227\n",
            "5 tensor([1]) [58.922386169433594, 10.81685733795166, 2.759733200073242] 59.97056046015449 0.30602783\n",
            "6 tensor([2]) [19.294845581054688, 0.946338415145874, 0.5064224004745483] 19.32467557400198 0.16070099\n",
            "7 tensor([7]) [1.0769593715667725, 0.06944853812456131, 0.03878270089626312] 1.0798929045706083 0.008899833\n",
            "8 tensor([8]) [1.40792715549469, 0.08842480927705765, -0.05772274360060692] 1.4118816300256316 0.011830478\n",
            "9 tensor([3]) [1414.2265625, 402.5911560058594, 193.29315185546875] 1483.0639404721976 35.56112\n",
            "10 tensor([4]) [23.922508239746094, 3.257139205932617, 1.797961950302124] 24.210081029651207 0.32186753\n"
          ]
        },
        {
          "data": {
            "image/png": "[encoded data removed]",
            "text/plain": [
              "<Figure size 640x480 with 1 Axes>"
            ]
          },
          "metadata": {},
          "output_type": "display_data"
        },
        {
          "data": {
            "image/png": "[encoded data removed]",
            "text/plain": [
              "<Figure size 640x480 with 1 Axes>"
            ]
          },
          "metadata": {},
          "output_type": "display_data"
        }
      ],
      "source": [
        "HessianEigList = []\n",
        "HessianEigNormList = []\n",
        "TargetList = []\n",
        "idx_list = []\n",
        "HessianNormList_Functional = []\n",
        "for i, (inputs, labels) in tqdm(enumerate(trainloader2)):\n",
        "  idx_list.append(i)\n",
        "  TargetList.append(labels)\n",
        "  hessian_comp = pyhessian.hessian(net, criterion, data=(inputs, labels))\n",
        "  top_eigenvalues, top_eigenvector = hessian_comp.eigenvalues(top_n=3)\n",
        "  HessianEigList.append( top_eigenvalues )\n",
        "  HessianEigNormList.append( np.linalg.norm(HessianEigList[-1])  )\n",
        "  inputs, targets = inputs.to(device), labels.to(device)\n",
        "  TARGET = targets\n",
        "  H = torch.autograd.functional.hessian(f, inputs) #, vectorize=True, outer_jacobian_strategy='forward-mode'\n",
        "  HessianNormList_Functional.append( torch.linalg.norm(H).to('cpu').detach().numpy() )\n",
        "  print(idx_list[-1], TargetList[-1], HessianEigList[-1], HessianEigNormList[-1], HessianNormList_Functional[-1])\n",
        "  if i == 10:\n",
        "    break\n",
        "plt.plot(HessianNormList_Functional)\n",
        "plt.show()\n",
        "plt.plot(HessianEigNormList)\n",
        "plt.show()"
      ]
    },
    {
      "cell_type": "code",
      "execution_count": null,
      "metadata": {
        "id": "4NEtADNrsF2H"
      },
      "outputs": [],
      "source": [
        "hess_fwdfwd =  jacfwd(jacfwd(Func.f))(inputs[0:1])"
      ]
    },
    {
      "cell_type": "code",
      "execution_count": null,
      "metadata": {
        "colab": {
          "base_uri": "https://localhost:8080/"
        },
        "id": "LGQRDOhKLxqr",
        "outputId": "257435bf-abf5-4af5-89e3-5b22ad2458ba"
      },
      "outputs": [
        {
          "data": {
            "text/plain": [
              "50000"
            ]
          },
          "execution_count": 30,
          "metadata": {},
          "output_type": "execute_result"
        }
      ],
      "source": [
        "len(trainset.data)"
      ]
    },
    {
      "cell_type": "code",
      "execution_count": null,
      "metadata": {
        "colab": {
          "base_uri": "https://localhost:8080/",
          "height": 448
        },
        "id": "LstXO-aYL80J",
        "outputId": "a4263642-c456-455d-f0a7-2f8210148f45"
      },
      "outputs": [
        {
          "data": {
            "text/plain": [
              "<matplotlib.image.AxesImage at 0x7e84a91f20e0>"
            ]
          },
          "execution_count": 35,
          "metadata": {},
          "output_type": "execute_result"
        },
        {
          "data": {
            "image/png": "[encoded data removed]",
            "text/plain": [
              "<Figure size 640x480 with 1 Axes>"
            ]
          },
          "metadata": {},
          "output_type": "display_data"
        }
      ],
      "source": [
        "plt.imshow(trainset.data[1])"
      ]
    },
    {
      "cell_type": "code",
      "execution_count": null,
      "metadata": {
        "colab": {
          "base_uri": "https://localhost:8080/"
        },
        "id": "e-IuhBRhMHQC",
        "outputId": "9f089362-5cd9-4fa3-a7b2-601611d4d5fe"
      },
      "outputs": [
        {
          "data": {
            "text/plain": [
              "9"
            ]
          },
          "execution_count": 37,
          "metadata": {},
          "output_type": "execute_result"
        }
      ],
      "source": []
    },
    {
      "cell_type": "code",
      "execution_count": null,
      "metadata": {
        "colab": {
          "base_uri": "https://localhost:8080/"
        },
        "id": "UfiWX40hLld_",
        "outputId": "9aa9926d-35cf-4a2b-a6f6-ed2ffbbd46ec"
      },
      "outputs": [
        {
          "data": {
            "text/plain": [
              "50000"
            ]
          },
          "execution_count": 27,
          "metadata": {},
          "output_type": "execute_result"
        }
      ],
      "source": [
        "len(trainset.targets)"
      ]
    },
    {
      "cell_type": "code",
      "execution_count": null,
      "metadata": {
        "colab": {
          "base_uri": "https://localhost:8080/"
        },
        "id": "5igMGxOiuaBg",
        "outputId": "ae122b23-46b9-43b4-862d-71587387b799"
      },
      "outputs": [
        {
          "data": {
            "text/plain": [
              "(1, 32, 32, 3)"
            ]
          },
          "execution_count": 29,
          "metadata": {},
          "output_type": "execute_result"
        }
      ],
      "source": [
        "testloader.dataset.data[0:1].shape"
      ]
    },
    {
      "cell_type": "code",
      "execution_count": null,
      "metadata": {
        "id": "sxMEkPDouRIO"
      },
      "outputs": [],
      "source": [
        "grads = torch.autograd.grad(f(testloader.dataset.data[0:1]), testloader.dataset.data[0:1], create_graph=True)\n",
        "H = torch.zeros((2, 2))\n",
        "\n",
        "for i in range(2):\n",
        "    for j in range(2):\n",
        "        H[i, j] = torch.autograd.grad(grads[0][i], x, retain_graph=True)[0][j]"
      ]
    }
  ],
  "metadata": {
    "accelerator": "GPU",
    "colab": {
      "provenance": []
    },
    "kernelspec": {
      "display_name": "Python 3",
      "name": "python3"
    },
    "language_info": {
      "name": "python"
    },
    "widgets": {
      "application/vnd.jupyter.widget-state+json": {
        "0301136b87fb4540a99d5d0bd91a3fc5": {
          "model_module": "@jupyter-widgets/controls",
          "model_module_version": "1.5.0",
          "model_name": "HTMLModel",
          "state": {
            "_dom_classes": [],
            "_model_module": "@jupyter-widgets/controls",
            "_model_module_version": "1.5.0",
            "_model_name": "HTMLModel",
            "_view_count": null,
            "_view_module": "@jupyter-widgets/controls",
            "_view_module_version": "1.5.0",
            "_view_name": "HTMLView",
            "description": "",
            "description_tooltip": null,
            "layout": "IPY_MODEL_a71fec21501045cbb08453626e077dc9",
            "placeholder": "​",
            "style": "IPY_MODEL_ea2380af3f474aebbf5ab69e73fc9280",
            "value": " 10/? [05:47&lt;00:00, 31.68s/it]"
          }
        },
        "03538c35e8254277936afd95516b2f18": {
          "model_module": "@jupyter-widgets/base",
          "model_module_version": "1.2.0",
          "model_name": "LayoutModel",
          "state": {
            "_model_module": "@jupyter-widgets/base",
            "_model_module_version": "1.2.0",
            "_model_name": "LayoutModel",
            "_view_count": null,
            "_view_module": "@jupyter-widgets/base",
            "_view_module_version": "1.2.0",
            "_view_name": "LayoutView",
            "align_content": null,
            "align_items": null,
            "align_self": null,
            "border": null,
            "bottom": null,
            "display": null,
            "flex": null,
            "flex_flow": null,
            "grid_area": null,
            "grid_auto_columns": null,
            "grid_auto_flow": null,
            "grid_auto_rows": null,
            "grid_column": null,
            "grid_gap": null,
            "grid_row": null,
            "grid_template_areas": null,
            "grid_template_columns": null,
            "grid_template_rows": null,
            "height": null,
            "justify_content": null,
            "justify_items": null,
            "left": null,
            "margin": null,
            "max_height": null,
            "max_width": null,
            "min_height": null,
            "min_width": null,
            "object_fit": null,
            "object_position": null,
            "order": null,
            "overflow": null,
            "overflow_x": null,
            "overflow_y": null,
            "padding": null,
            "right": null,
            "top": null,
            "visibility": null,
            "width": null
          }
        },
        "04f2e74b1aed4815823b2958f89b2dea": {
          "model_module": "@jupyter-widgets/controls",
          "model_module_version": "1.5.0",
          "model_name": "HBoxModel",
          "state": {
            "_dom_classes": [],
            "_model_module": "@jupyter-widgets/controls",
            "_model_module_version": "1.5.0",
            "_model_name": "HBoxModel",
            "_view_count": null,
            "_view_module": "@jupyter-widgets/controls",
            "_view_module_version": "1.5.0",
            "_view_name": "HBoxView",
            "box_style": "",
            "children": [
              "IPY_MODEL_e71bb62ca1a84585b6657742063abbbe",
              "IPY_MODEL_d609c303f51b48099622dc3c372d77b4",
              "IPY_MODEL_d6c4ebe96871480980bf05de9cc854bb"
            ],
            "layout": "IPY_MODEL_7f69f9a5d9e84f90b36c9ab3f34c2260"
          }
        },
        "0650f3bdca0547709efbb46d273052d1": {
          "model_module": "@jupyter-widgets/controls",
          "model_module_version": "1.5.0",
          "model_name": "FloatProgressModel",
          "state": {
            "_dom_classes": [],
            "_model_module": "@jupyter-widgets/controls",
            "_model_module_version": "1.5.0",
            "_model_name": "FloatProgressModel",
            "_view_count": null,
            "_view_module": "@jupyter-widgets/controls",
            "_view_module_version": "1.5.0",
            "_view_name": "ProgressView",
            "bar_style": "",
            "description": "",
            "description_tooltip": null,
            "layout": "IPY_MODEL_121501719ae341c28e0d04919892b2e5",
            "max": 50,
            "min": 0,
            "orientation": "horizontal",
            "style": "IPY_MODEL_2a3306e85a5a43548b9c12370b380bdb",
            "value": 44
          }
        },
        "09592dd8c8a54397bb8cadbd1c03657c": {
          "model_module": "@jupyter-widgets/controls",
          "model_module_version": "1.5.0",
          "model_name": "ProgressStyleModel",
          "state": {
            "_model_module": "@jupyter-widgets/controls",
            "_model_module_version": "1.5.0",
            "_model_name": "ProgressStyleModel",
            "_view_count": null,
            "_view_module": "@jupyter-widgets/base",
            "_view_module_version": "1.2.0",
            "_view_name": "StyleView",
            "bar_color": null,
            "description_width": ""
          }
        },
        "1102c8b14a92418a9a283322e820d100": {
          "model_module": "@jupyter-widgets/base",
          "model_module_version": "1.2.0",
          "model_name": "LayoutModel",
          "state": {
            "_model_module": "@jupyter-widgets/base",
            "_model_module_version": "1.2.0",
            "_model_name": "LayoutModel",
            "_view_count": null,
            "_view_module": "@jupyter-widgets/base",
            "_view_module_version": "1.2.0",
            "_view_name": "LayoutView",
            "align_content": null,
            "align_items": null,
            "align_self": null,
            "border": null,
            "bottom": null,
            "display": null,
            "flex": null,
            "flex_flow": null,
            "grid_area": null,
            "grid_auto_columns": null,
            "grid_auto_flow": null,
            "grid_auto_rows": null,
            "grid_column": null,
            "grid_gap": null,
            "grid_row": null,
            "grid_template_areas": null,
            "grid_template_columns": null,
            "grid_template_rows": null,
            "height": null,
            "justify_content": null,
            "justify_items": null,
            "left": null,
            "margin": null,
            "max_height": null,
            "max_width": null,
            "min_height": null,
            "min_width": null,
            "object_fit": null,
            "object_position": null,
            "order": null,
            "overflow": null,
            "overflow_x": null,
            "overflow_y": null,
            "padding": null,
            "right": null,
            "top": null,
            "visibility": null,
            "width": "20px"
          }
        },
        "121501719ae341c28e0d04919892b2e5": {
          "model_module": "@jupyter-widgets/base",
          "model_module_version": "1.2.0",
          "model_name": "LayoutModel",
          "state": {
            "_model_module": "@jupyter-widgets/base",
            "_model_module_version": "1.2.0",
            "_model_name": "LayoutModel",
            "_view_count": null,
            "_view_module": "@jupyter-widgets/base",
            "_view_module_version": "1.2.0",
            "_view_name": "LayoutView",
            "align_content": null,
            "align_items": null,
            "align_self": null,
            "border": null,
            "bottom": null,
            "display": null,
            "flex": null,
            "flex_flow": null,
            "grid_area": null,
            "grid_auto_columns": null,
            "grid_auto_flow": null,
            "grid_auto_rows": null,
            "grid_column": null,
            "grid_gap": null,
            "grid_row": null,
            "grid_template_areas": null,
            "grid_template_columns": null,
            "grid_template_rows": null,
            "height": null,
            "justify_content": null,
            "justify_items": null,
            "left": null,
            "margin": null,
            "max_height": null,
            "max_width": null,
            "min_height": null,
            "min_width": null,
            "object_fit": null,
            "object_position": null,
            "order": null,
            "overflow": null,
            "overflow_x": null,
            "overflow_y": null,
            "padding": null,
            "right": null,
            "top": null,
            "visibility": null,
            "width": null
          }
        },
        "1bc09c7c7f8b410d85f1f6de5a96d75b": {
          "model_module": "@jupyter-widgets/controls",
          "model_module_version": "1.5.0",
          "model_name": "DescriptionStyleModel",
          "state": {
            "_model_module": "@jupyter-widgets/controls",
            "_model_module_version": "1.5.0",
            "_model_name": "DescriptionStyleModel",
            "_view_count": null,
            "_view_module": "@jupyter-widgets/base",
            "_view_module_version": "1.2.0",
            "_view_name": "StyleView",
            "description_width": ""
          }
        },
        "2a3306e85a5a43548b9c12370b380bdb": {
          "model_module": "@jupyter-widgets/controls",
          "model_module_version": "1.5.0",
          "model_name": "ProgressStyleModel",
          "state": {
            "_model_module": "@jupyter-widgets/controls",
            "_model_module_version": "1.5.0",
            "_model_name": "ProgressStyleModel",
            "_view_count": null,
            "_view_module": "@jupyter-widgets/base",
            "_view_module_version": "1.2.0",
            "_view_name": "StyleView",
            "bar_color": null,
            "description_width": ""
          }
        },
        "3676b5f620874e18a0cb6ff857649a02": {
          "model_module": "@jupyter-widgets/controls",
          "model_module_version": "1.5.0",
          "model_name": "DescriptionStyleModel",
          "state": {
            "_model_module": "@jupyter-widgets/controls",
            "_model_module_version": "1.5.0",
            "_model_name": "DescriptionStyleModel",
            "_view_count": null,
            "_view_module": "@jupyter-widgets/base",
            "_view_module_version": "1.2.0",
            "_view_name": "StyleView",
            "description_width": ""
          }
        },
        "3f3196004e9540d09453f277979e2f2b": {
          "model_module": "@jupyter-widgets/controls",
          "model_module_version": "1.5.0",
          "model_name": "HTMLModel",
          "state": {
            "_dom_classes": [],
            "_model_module": "@jupyter-widgets/controls",
            "_model_module_version": "1.5.0",
            "_model_name": "HTMLModel",
            "_view_count": null,
            "_view_module": "@jupyter-widgets/controls",
            "_view_module_version": "1.5.0",
            "_view_name": "HTMLView",
            "description": "",
            "description_tooltip": null,
            "layout": "IPY_MODEL_602a6df0870c4da28bc090fb651f93a2",
            "placeholder": "​",
            "style": "IPY_MODEL_fc24e25821784461a5ab96f6c730f682",
            "value": ""
          }
        },
        "46febf6eb1c24cf5893c8e4f0b350571": {
          "model_module": "@jupyter-widgets/controls",
          "model_module_version": "1.5.0",
          "model_name": "DescriptionStyleModel",
          "state": {
            "_model_module": "@jupyter-widgets/controls",
            "_model_module_version": "1.5.0",
            "_model_name": "DescriptionStyleModel",
            "_view_count": null,
            "_view_module": "@jupyter-widgets/base",
            "_view_module_version": "1.2.0",
            "_view_name": "StyleView",
            "description_width": ""
          }
        },
        "4d5fbae313a2482897c3471f2482e3e4": {
          "model_module": "@jupyter-widgets/base",
          "model_module_version": "1.2.0",
          "model_name": "LayoutModel",
          "state": {
            "_model_module": "@jupyter-widgets/base",
            "_model_module_version": "1.2.0",
            "_model_name": "LayoutModel",
            "_view_count": null,
            "_view_module": "@jupyter-widgets/base",
            "_view_module_version": "1.2.0",
            "_view_name": "LayoutView",
            "align_content": null,
            "align_items": null,
            "align_self": null,
            "border": null,
            "bottom": null,
            "display": null,
            "flex": null,
            "flex_flow": null,
            "grid_area": null,
            "grid_auto_columns": null,
            "grid_auto_flow": null,
            "grid_auto_rows": null,
            "grid_column": null,
            "grid_gap": null,
            "grid_row": null,
            "grid_template_areas": null,
            "grid_template_columns": null,
            "grid_template_rows": null,
            "height": null,
            "justify_content": null,
            "justify_items": null,
            "left": null,
            "margin": null,
            "max_height": null,
            "max_width": null,
            "min_height": null,
            "min_width": null,
            "object_fit": null,
            "object_position": null,
            "order": null,
            "overflow": null,
            "overflow_x": null,
            "overflow_y": null,
            "padding": null,
            "right": null,
            "top": null,
            "visibility": null,
            "width": null
          }
        },
        "4fe8efd9f8c847c4b0dd6c52f31d7e6d": {
          "model_module": "@jupyter-widgets/controls",
          "model_module_version": "1.5.0",
          "model_name": "HBoxModel",
          "state": {
            "_dom_classes": [],
            "_model_module": "@jupyter-widgets/controls",
            "_model_module_version": "1.5.0",
            "_model_name": "HBoxModel",
            "_view_count": null,
            "_view_module": "@jupyter-widgets/controls",
            "_view_module_version": "1.5.0",
            "_view_name": "HBoxView",
            "box_style": "",
            "children": [
              "IPY_MODEL_d6e60957485a4ef4bafee8537703ae24",
              "IPY_MODEL_8d758047a53f4526878ad7fabaa7e87f",
              "IPY_MODEL_0301136b87fb4540a99d5d0bd91a3fc5"
            ],
            "layout": "IPY_MODEL_c61a89ada7d149608dab64e6f19bb635"
          }
        },
        "5156530c7bcf45ceb352189f1f9dd646": {
          "model_module": "@jupyter-widgets/base",
          "model_module_version": "1.2.0",
          "model_name": "LayoutModel",
          "state": {
            "_model_module": "@jupyter-widgets/base",
            "_model_module_version": "1.2.0",
            "_model_name": "LayoutModel",
            "_view_count": null,
            "_view_module": "@jupyter-widgets/base",
            "_view_module_version": "1.2.0",
            "_view_name": "LayoutView",
            "align_content": null,
            "align_items": null,
            "align_self": null,
            "border": null,
            "bottom": null,
            "display": null,
            "flex": null,
            "flex_flow": null,
            "grid_area": null,
            "grid_auto_columns": null,
            "grid_auto_flow": null,
            "grid_auto_rows": null,
            "grid_column": null,
            "grid_gap": null,
            "grid_row": null,
            "grid_template_areas": null,
            "grid_template_columns": null,
            "grid_template_rows": null,
            "height": null,
            "justify_content": null,
            "justify_items": null,
            "left": null,
            "margin": null,
            "max_height": null,
            "max_width": null,
            "min_height": null,
            "min_width": null,
            "object_fit": null,
            "object_position": null,
            "order": null,
            "overflow": null,
            "overflow_x": null,
            "overflow_y": null,
            "padding": null,
            "right": null,
            "top": null,
            "visibility": null,
            "width": null
          }
        },
        "592d7bdf3408426d98f36eb7e4b8552c": {
          "model_module": "@jupyter-widgets/controls",
          "model_module_version": "1.5.0",
          "model_name": "HBoxModel",
          "state": {
            "_dom_classes": [],
            "_model_module": "@jupyter-widgets/controls",
            "_model_module_version": "1.5.0",
            "_model_name": "HBoxModel",
            "_view_count": null,
            "_view_module": "@jupyter-widgets/controls",
            "_view_module_version": "1.5.0",
            "_view_name": "HBoxView",
            "box_style": "",
            "children": [
              "IPY_MODEL_7e89322bda794ba88ea87a2ae1f63fdc",
              "IPY_MODEL_eb9b2ed963d64ae2bf1cb5faa3ba1150",
              "IPY_MODEL_7136192104c841b593c23e90d8af2af8"
            ],
            "layout": "IPY_MODEL_9f81ab27ab47409d9ef099f555d9945d"
          }
        },
        "5a5a5a04e37f46bebc8914955f5eb911": {
          "model_module": "@jupyter-widgets/controls",
          "model_module_version": "1.5.0",
          "model_name": "ProgressStyleModel",
          "state": {
            "_model_module": "@jupyter-widgets/controls",
            "_model_module_version": "1.5.0",
            "_model_name": "ProgressStyleModel",
            "_view_count": null,
            "_view_module": "@jupyter-widgets/base",
            "_view_module_version": "1.2.0",
            "_view_name": "StyleView",
            "bar_color": null,
            "description_width": ""
          }
        },
        "602a6df0870c4da28bc090fb651f93a2": {
          "model_module": "@jupyter-widgets/base",
          "model_module_version": "1.2.0",
          "model_name": "LayoutModel",
          "state": {
            "_model_module": "@jupyter-widgets/base",
            "_model_module_version": "1.2.0",
            "_model_name": "LayoutModel",
            "_view_count": null,
            "_view_module": "@jupyter-widgets/base",
            "_view_module_version": "1.2.0",
            "_view_name": "LayoutView",
            "align_content": null,
            "align_items": null,
            "align_self": null,
            "border": null,
            "bottom": null,
            "display": null,
            "flex": null,
            "flex_flow": null,
            "grid_area": null,
            "grid_auto_columns": null,
            "grid_auto_flow": null,
            "grid_auto_rows": null,
            "grid_column": null,
            "grid_gap": null,
            "grid_row": null,
            "grid_template_areas": null,
            "grid_template_columns": null,
            "grid_template_rows": null,
            "height": null,
            "justify_content": null,
            "justify_items": null,
            "left": null,
            "margin": null,
            "max_height": null,
            "max_width": null,
            "min_height": null,
            "min_width": null,
            "object_fit": null,
            "object_position": null,
            "order": null,
            "overflow": null,
            "overflow_x": null,
            "overflow_y": null,
            "padding": null,
            "right": null,
            "top": null,
            "visibility": null,
            "width": null
          }
        },
        "6661057c162b4e0f8f4ab19585c5e3e1": {
          "model_module": "@jupyter-widgets/controls",
          "model_module_version": "1.5.0",
          "model_name": "DescriptionStyleModel",
          "state": {
            "_model_module": "@jupyter-widgets/controls",
            "_model_module_version": "1.5.0",
            "_model_name": "DescriptionStyleModel",
            "_view_count": null,
            "_view_module": "@jupyter-widgets/base",
            "_view_module_version": "1.2.0",
            "_view_name": "StyleView",
            "description_width": ""
          }
        },
        "66d03f93ff544b4997a0c6a9c4c36d4e": {
          "model_module": "@jupyter-widgets/controls",
          "model_module_version": "1.5.0",
          "model_name": "DescriptionStyleModel",
          "state": {
            "_model_module": "@jupyter-widgets/controls",
            "_model_module_version": "1.5.0",
            "_model_name": "DescriptionStyleModel",
            "_view_count": null,
            "_view_module": "@jupyter-widgets/base",
            "_view_module_version": "1.2.0",
            "_view_name": "StyleView",
            "description_width": ""
          }
        },
        "7136192104c841b593c23e90d8af2af8": {
          "model_module": "@jupyter-widgets/controls",
          "model_module_version": "1.5.0",
          "model_name": "HTMLModel",
          "state": {
            "_dom_classes": [],
            "_model_module": "@jupyter-widgets/controls",
            "_model_module_version": "1.5.0",
            "_model_name": "HTMLModel",
            "_view_count": null,
            "_view_module": "@jupyter-widgets/controls",
            "_view_module_version": "1.5.0",
            "_view_name": "HTMLView",
            "description": "",
            "description_tooltip": null,
            "layout": "IPY_MODEL_4d5fbae313a2482897c3471f2482e3e4",
            "placeholder": "​",
            "style": "IPY_MODEL_eb3c06e17fb04658a0f3f65af534d55b",
            "value": " 10/? [05:55&lt;00:00, 31.98s/it]"
          }
        },
        "76718988543141ff8df01478f03d0384": {
          "model_module": "@jupyter-widgets/base",
          "model_module_version": "1.2.0",
          "model_name": "LayoutModel",
          "state": {
            "_model_module": "@jupyter-widgets/base",
            "_model_module_version": "1.2.0",
            "_model_name": "LayoutModel",
            "_view_count": null,
            "_view_module": "@jupyter-widgets/base",
            "_view_module_version": "1.2.0",
            "_view_name": "LayoutView",
            "align_content": null,
            "align_items": null,
            "align_self": null,
            "border": null,
            "bottom": null,
            "display": null,
            "flex": null,
            "flex_flow": null,
            "grid_area": null,
            "grid_auto_columns": null,
            "grid_auto_flow": null,
            "grid_auto_rows": null,
            "grid_column": null,
            "grid_gap": null,
            "grid_row": null,
            "grid_template_areas": null,
            "grid_template_columns": null,
            "grid_template_rows": null,
            "height": null,
            "justify_content": null,
            "justify_items": null,
            "left": null,
            "margin": null,
            "max_height": null,
            "max_width": null,
            "min_height": null,
            "min_width": null,
            "object_fit": null,
            "object_position": null,
            "order": null,
            "overflow": null,
            "overflow_x": null,
            "overflow_y": null,
            "padding": null,
            "right": null,
            "top": null,
            "visibility": null,
            "width": null
          }
        },
        "7c4f033aae7444d0bcf1069a2c12533b": {
          "model_module": "@jupyter-widgets/controls",
          "model_module_version": "1.5.0",
          "model_name": "HTMLModel",
          "state": {
            "_dom_classes": [],
            "_model_module": "@jupyter-widgets/controls",
            "_model_module_version": "1.5.0",
            "_model_name": "HTMLModel",
            "_view_count": null,
            "_view_module": "@jupyter-widgets/controls",
            "_view_module_version": "1.5.0",
            "_view_name": "HTMLView",
            "description": "",
            "description_tooltip": null,
            "layout": "IPY_MODEL_5156530c7bcf45ceb352189f1f9dd646",
            "placeholder": "​",
            "style": "IPY_MODEL_66d03f93ff544b4997a0c6a9c4c36d4e",
            "value": " 4/? [00:00&lt;00:00, 54.94it/s]"
          }
        },
        "7e89322bda794ba88ea87a2ae1f63fdc": {
          "model_module": "@jupyter-widgets/controls",
          "model_module_version": "1.5.0",
          "model_name": "HTMLModel",
          "state": {
            "_dom_classes": [],
            "_model_module": "@jupyter-widgets/controls",
            "_model_module_version": "1.5.0",
            "_model_name": "HTMLModel",
            "_view_count": null,
            "_view_module": "@jupyter-widgets/controls",
            "_view_module_version": "1.5.0",
            "_view_name": "HTMLView",
            "description": "",
            "description_tooltip": null,
            "layout": "IPY_MODEL_d114aa5f7fb24276b7048e0f60fb7356",
            "placeholder": "​",
            "style": "IPY_MODEL_3676b5f620874e18a0cb6ff857649a02",
            "value": ""
          }
        },
        "7f69f9a5d9e84f90b36c9ab3f34c2260": {
          "model_module": "@jupyter-widgets/base",
          "model_module_version": "1.2.0",
          "model_name": "LayoutModel",
          "state": {
            "_model_module": "@jupyter-widgets/base",
            "_model_module_version": "1.2.0",
            "_model_name": "LayoutModel",
            "_view_count": null,
            "_view_module": "@jupyter-widgets/base",
            "_view_module_version": "1.2.0",
            "_view_name": "LayoutView",
            "align_content": null,
            "align_items": null,
            "align_self": null,
            "border": null,
            "bottom": null,
            "display": null,
            "flex": null,
            "flex_flow": null,
            "grid_area": null,
            "grid_auto_columns": null,
            "grid_auto_flow": null,
            "grid_auto_rows": null,
            "grid_column": null,
            "grid_gap": null,
            "grid_row": null,
            "grid_template_areas": null,
            "grid_template_columns": null,
            "grid_template_rows": null,
            "height": null,
            "justify_content": null,
            "justify_items": null,
            "left": null,
            "margin": null,
            "max_height": null,
            "max_width": null,
            "min_height": null,
            "min_width": null,
            "object_fit": null,
            "object_position": null,
            "order": null,
            "overflow": null,
            "overflow_x": null,
            "overflow_y": null,
            "padding": null,
            "right": null,
            "top": null,
            "visibility": null,
            "width": null
          }
        },
        "8209ff22c35c420cb7fc73a91cc469a2": {
          "model_module": "@jupyter-widgets/controls",
          "model_module_version": "1.5.0",
          "model_name": "HBoxModel",
          "state": {
            "_dom_classes": [],
            "_model_module": "@jupyter-widgets/controls",
            "_model_module_version": "1.5.0",
            "_model_name": "HBoxModel",
            "_view_count": null,
            "_view_module": "@jupyter-widgets/controls",
            "_view_module_version": "1.5.0",
            "_view_name": "HBoxView",
            "box_style": "",
            "children": [
              "IPY_MODEL_a3c4e9b3a14443c584dda47cd33a0996",
              "IPY_MODEL_0650f3bdca0547709efbb46d273052d1",
              "IPY_MODEL_ab86f5ac459248438178892a36b633e3"
            ],
            "layout": "IPY_MODEL_824984b9fa9b4a1d883c3a39b9c3b9e3"
          }
        },
        "824984b9fa9b4a1d883c3a39b9c3b9e3": {
          "model_module": "@jupyter-widgets/base",
          "model_module_version": "1.2.0",
          "model_name": "LayoutModel",
          "state": {
            "_model_module": "@jupyter-widgets/base",
            "_model_module_version": "1.2.0",
            "_model_name": "LayoutModel",
            "_view_count": null,
            "_view_module": "@jupyter-widgets/base",
            "_view_module_version": "1.2.0",
            "_view_name": "LayoutView",
            "align_content": null,
            "align_items": null,
            "align_self": null,
            "border": null,
            "bottom": null,
            "display": null,
            "flex": null,
            "flex_flow": null,
            "grid_area": null,
            "grid_auto_columns": null,
            "grid_auto_flow": null,
            "grid_auto_rows": null,
            "grid_column": null,
            "grid_gap": null,
            "grid_row": null,
            "grid_template_areas": null,
            "grid_template_columns": null,
            "grid_template_rows": null,
            "height": null,
            "justify_content": null,
            "justify_items": null,
            "left": null,
            "margin": null,
            "max_height": null,
            "max_width": null,
            "min_height": null,
            "min_width": null,
            "object_fit": null,
            "object_position": null,
            "order": null,
            "overflow": null,
            "overflow_x": null,
            "overflow_y": null,
            "padding": null,
            "right": null,
            "top": null,
            "visibility": null,
            "width": null
          }
        },
        "86903b906b404ca1a3374cd78cf07a13": {
          "model_module": "@jupyter-widgets/base",
          "model_module_version": "1.2.0",
          "model_name": "LayoutModel",
          "state": {
            "_model_module": "@jupyter-widgets/base",
            "_model_module_version": "1.2.0",
            "_model_name": "LayoutModel",
            "_view_count": null,
            "_view_module": "@jupyter-widgets/base",
            "_view_module_version": "1.2.0",
            "_view_name": "LayoutView",
            "align_content": null,
            "align_items": null,
            "align_self": null,
            "border": null,
            "bottom": null,
            "display": null,
            "flex": null,
            "flex_flow": null,
            "grid_area": null,
            "grid_auto_columns": null,
            "grid_auto_flow": null,
            "grid_auto_rows": null,
            "grid_column": null,
            "grid_gap": null,
            "grid_row": null,
            "grid_template_areas": null,
            "grid_template_columns": null,
            "grid_template_rows": null,
            "height": null,
            "justify_content": null,
            "justify_items": null,
            "left": null,
            "margin": null,
            "max_height": null,
            "max_width": null,
            "min_height": null,
            "min_width": null,
            "object_fit": null,
            "object_position": null,
            "order": null,
            "overflow": null,
            "overflow_x": null,
            "overflow_y": null,
            "padding": null,
            "right": null,
            "top": null,
            "visibility": null,
            "width": null
          }
        },
        "89dcdd2319704a0d9b67a5645110f994": {
          "model_module": "@jupyter-widgets/controls",
          "model_module_version": "1.5.0",
          "model_name": "FloatProgressModel",
          "state": {
            "_dom_classes": [],
            "_model_module": "@jupyter-widgets/controls",
            "_model_module_version": "1.5.0",
            "_model_name": "FloatProgressModel",
            "_view_count": null,
            "_view_module": "@jupyter-widgets/controls",
            "_view_module_version": "1.5.0",
            "_view_name": "ProgressView",
            "bar_style": "danger",
            "description": "",
            "description_tooltip": null,
            "layout": "IPY_MODEL_1102c8b14a92418a9a283322e820d100",
            "max": 1,
            "min": 0,
            "orientation": "horizontal",
            "style": "IPY_MODEL_8f091dae56f34a70b71567dd2ac4edec",
            "value": 1
          }
        },
        "8b71248fa0774e48851ad21dd44e724f": {
          "model_module": "@jupyter-widgets/base",
          "model_module_version": "1.2.0",
          "model_name": "LayoutModel",
          "state": {
            "_model_module": "@jupyter-widgets/base",
            "_model_module_version": "1.2.0",
            "_model_name": "LayoutModel",
            "_view_count": null,
            "_view_module": "@jupyter-widgets/base",
            "_view_module_version": "1.2.0",
            "_view_name": "LayoutView",
            "align_content": null,
            "align_items": null,
            "align_self": null,
            "border": null,
            "bottom": null,
            "display": null,
            "flex": null,
            "flex_flow": null,
            "grid_area": null,
            "grid_auto_columns": null,
            "grid_auto_flow": null,
            "grid_auto_rows": null,
            "grid_column": null,
            "grid_gap": null,
            "grid_row": null,
            "grid_template_areas": null,
            "grid_template_columns": null,
            "grid_template_rows": null,
            "height": null,
            "justify_content": null,
            "justify_items": null,
            "left": null,
            "margin": null,
            "max_height": null,
            "max_width": null,
            "min_height": null,
            "min_width": null,
            "object_fit": null,
            "object_position": null,
            "order": null,
            "overflow": null,
            "overflow_x": null,
            "overflow_y": null,
            "padding": null,
            "right": null,
            "top": null,
            "visibility": null,
            "width": null
          }
        },
        "8d758047a53f4526878ad7fabaa7e87f": {
          "model_module": "@jupyter-widgets/controls",
          "model_module_version": "1.5.0",
          "model_name": "FloatProgressModel",
          "state": {
            "_dom_classes": [],
            "_model_module": "@jupyter-widgets/controls",
            "_model_module_version": "1.5.0",
            "_model_name": "FloatProgressModel",
            "_view_count": null,
            "_view_module": "@jupyter-widgets/controls",
            "_view_module_version": "1.5.0",
            "_view_name": "ProgressView",
            "bar_style": "danger",
            "description": "",
            "description_tooltip": null,
            "layout": "IPY_MODEL_c687505568984693944b0efd0c8b43db",
            "max": 1,
            "min": 0,
            "orientation": "horizontal",
            "style": "IPY_MODEL_09592dd8c8a54397bb8cadbd1c03657c",
            "value": 1
          }
        },
        "8ddcc53b81664b2892ca35b2c0557f51": {
          "model_module": "@jupyter-widgets/base",
          "model_module_version": "1.2.0",
          "model_name": "LayoutModel",
          "state": {
            "_model_module": "@jupyter-widgets/base",
            "_model_module_version": "1.2.0",
            "_model_name": "LayoutModel",
            "_view_count": null,
            "_view_module": "@jupyter-widgets/base",
            "_view_module_version": "1.2.0",
            "_view_name": "LayoutView",
            "align_content": null,
            "align_items": null,
            "align_self": null,
            "border": null,
            "bottom": null,
            "display": null,
            "flex": null,
            "flex_flow": null,
            "grid_area": null,
            "grid_auto_columns": null,
            "grid_auto_flow": null,
            "grid_auto_rows": null,
            "grid_column": null,
            "grid_gap": null,
            "grid_row": null,
            "grid_template_areas": null,
            "grid_template_columns": null,
            "grid_template_rows": null,
            "height": null,
            "justify_content": null,
            "justify_items": null,
            "left": null,
            "margin": null,
            "max_height": null,
            "max_width": null,
            "min_height": null,
            "min_width": null,
            "object_fit": null,
            "object_position": null,
            "order": null,
            "overflow": null,
            "overflow_x": null,
            "overflow_y": null,
            "padding": null,
            "right": null,
            "top": null,
            "visibility": null,
            "width": "20px"
          }
        },
        "8f091dae56f34a70b71567dd2ac4edec": {
          "model_module": "@jupyter-widgets/controls",
          "model_module_version": "1.5.0",
          "model_name": "ProgressStyleModel",
          "state": {
            "_model_module": "@jupyter-widgets/controls",
            "_model_module_version": "1.5.0",
            "_model_name": "ProgressStyleModel",
            "_view_count": null,
            "_view_module": "@jupyter-widgets/base",
            "_view_module_version": "1.2.0",
            "_view_name": "StyleView",
            "bar_color": null,
            "description_width": ""
          }
        },
        "90a3b56982d245fd9cd59958d796c459": {
          "model_module": "@jupyter-widgets/controls",
          "model_module_version": "1.5.0",
          "model_name": "HBoxModel",
          "state": {
            "_dom_classes": [],
            "_model_module": "@jupyter-widgets/controls",
            "_model_module_version": "1.5.0",
            "_model_name": "HBoxModel",
            "_view_count": null,
            "_view_module": "@jupyter-widgets/controls",
            "_view_module_version": "1.5.0",
            "_view_name": "HBoxView",
            "box_style": "",
            "children": [
              "IPY_MODEL_3f3196004e9540d09453f277979e2f2b",
              "IPY_MODEL_89dcdd2319704a0d9b67a5645110f994",
              "IPY_MODEL_7c4f033aae7444d0bcf1069a2c12533b"
            ],
            "layout": "IPY_MODEL_86903b906b404ca1a3374cd78cf07a13"
          }
        },
        "9f81ab27ab47409d9ef099f555d9945d": {
          "model_module": "@jupyter-widgets/base",
          "model_module_version": "1.2.0",
          "model_name": "LayoutModel",
          "state": {
            "_model_module": "@jupyter-widgets/base",
            "_model_module_version": "1.2.0",
            "_model_name": "LayoutModel",
            "_view_count": null,
            "_view_module": "@jupyter-widgets/base",
            "_view_module_version": "1.2.0",
            "_view_name": "LayoutView",
            "align_content": null,
            "align_items": null,
            "align_self": null,
            "border": null,
            "bottom": null,
            "display": null,
            "flex": null,
            "flex_flow": null,
            "grid_area": null,
            "grid_auto_columns": null,
            "grid_auto_flow": null,
            "grid_auto_rows": null,
            "grid_column": null,
            "grid_gap": null,
            "grid_row": null,
            "grid_template_areas": null,
            "grid_template_columns": null,
            "grid_template_rows": null,
            "height": null,
            "justify_content": null,
            "justify_items": null,
            "left": null,
            "margin": null,
            "max_height": null,
            "max_width": null,
            "min_height": null,
            "min_width": null,
            "object_fit": null,
            "object_position": null,
            "order": null,
            "overflow": null,
            "overflow_x": null,
            "overflow_y": null,
            "padding": null,
            "right": null,
            "top": null,
            "visibility": null,
            "width": null
          }
        },
        "a18fbc528bca457a83e704545ea76dc1": {
          "model_module": "@jupyter-widgets/controls",
          "model_module_version": "1.5.0",
          "model_name": "DescriptionStyleModel",
          "state": {
            "_model_module": "@jupyter-widgets/controls",
            "_model_module_version": "1.5.0",
            "_model_name": "DescriptionStyleModel",
            "_view_count": null,
            "_view_module": "@jupyter-widgets/base",
            "_view_module_version": "1.2.0",
            "_view_name": "StyleView",
            "description_width": ""
          }
        },
        "a3c4e9b3a14443c584dda47cd33a0996": {
          "model_module": "@jupyter-widgets/controls",
          "model_module_version": "1.5.0",
          "model_name": "HTMLModel",
          "state": {
            "_dom_classes": [],
            "_model_module": "@jupyter-widgets/controls",
            "_model_module_version": "1.5.0",
            "_model_name": "HTMLModel",
            "_view_count": null,
            "_view_module": "@jupyter-widgets/controls",
            "_view_module_version": "1.5.0",
            "_view_name": "HTMLView",
            "description": "",
            "description_tooltip": null,
            "layout": "IPY_MODEL_76718988543141ff8df01478f03d0384",
            "placeholder": "​",
            "style": "IPY_MODEL_6661057c162b4e0f8f4ab19585c5e3e1",
            "value": " 88%"
          }
        },
        "a71fec21501045cbb08453626e077dc9": {
          "model_module": "@jupyter-widgets/base",
          "model_module_version": "1.2.0",
          "model_name": "LayoutModel",
          "state": {
            "_model_module": "@jupyter-widgets/base",
            "_model_module_version": "1.2.0",
            "_model_name": "LayoutModel",
            "_view_count": null,
            "_view_module": "@jupyter-widgets/base",
            "_view_module_version": "1.2.0",
            "_view_name": "LayoutView",
            "align_content": null,
            "align_items": null,
            "align_self": null,
            "border": null,
            "bottom": null,
            "display": null,
            "flex": null,
            "flex_flow": null,
            "grid_area": null,
            "grid_auto_columns": null,
            "grid_auto_flow": null,
            "grid_auto_rows": null,
            "grid_column": null,
            "grid_gap": null,
            "grid_row": null,
            "grid_template_areas": null,
            "grid_template_columns": null,
            "grid_template_rows": null,
            "height": null,
            "justify_content": null,
            "justify_items": null,
            "left": null,
            "margin": null,
            "max_height": null,
            "max_width": null,
            "min_height": null,
            "min_width": null,
            "object_fit": null,
            "object_position": null,
            "order": null,
            "overflow": null,
            "overflow_x": null,
            "overflow_y": null,
            "padding": null,
            "right": null,
            "top": null,
            "visibility": null,
            "width": null
          }
        },
        "ab86f5ac459248438178892a36b633e3": {
          "model_module": "@jupyter-widgets/controls",
          "model_module_version": "1.5.0",
          "model_name": "HTMLModel",
          "state": {
            "_dom_classes": [],
            "_model_module": "@jupyter-widgets/controls",
            "_model_module_version": "1.5.0",
            "_model_name": "HTMLModel",
            "_view_count": null,
            "_view_module": "@jupyter-widgets/controls",
            "_view_module_version": "1.5.0",
            "_view_name": "HTMLView",
            "description": "",
            "description_tooltip": null,
            "layout": "IPY_MODEL_8b71248fa0774e48851ad21dd44e724f",
            "placeholder": "​",
            "style": "IPY_MODEL_46febf6eb1c24cf5893c8e4f0b350571",
            "value": " 44/50 [31:34&lt;04:17, 42.89s/it]"
          }
        },
        "c0a7ebcbfa6e42369a33527ed3153e62": {
          "model_module": "@jupyter-widgets/controls",
          "model_module_version": "1.5.0",
          "model_name": "ProgressStyleModel",
          "state": {
            "_model_module": "@jupyter-widgets/controls",
            "_model_module_version": "1.5.0",
            "_model_name": "ProgressStyleModel",
            "_view_count": null,
            "_view_module": "@jupyter-widgets/base",
            "_view_module_version": "1.2.0",
            "_view_name": "StyleView",
            "bar_color": null,
            "description_width": ""
          }
        },
        "c61a89ada7d149608dab64e6f19bb635": {
          "model_module": "@jupyter-widgets/base",
          "model_module_version": "1.2.0",
          "model_name": "LayoutModel",
          "state": {
            "_model_module": "@jupyter-widgets/base",
            "_model_module_version": "1.2.0",
            "_model_name": "LayoutModel",
            "_view_count": null,
            "_view_module": "@jupyter-widgets/base",
            "_view_module_version": "1.2.0",
            "_view_name": "LayoutView",
            "align_content": null,
            "align_items": null,
            "align_self": null,
            "border": null,
            "bottom": null,
            "display": null,
            "flex": null,
            "flex_flow": null,
            "grid_area": null,
            "grid_auto_columns": null,
            "grid_auto_flow": null,
            "grid_auto_rows": null,
            "grid_column": null,
            "grid_gap": null,
            "grid_row": null,
            "grid_template_areas": null,
            "grid_template_columns": null,
            "grid_template_rows": null,
            "height": null,
            "justify_content": null,
            "justify_items": null,
            "left": null,
            "margin": null,
            "max_height": null,
            "max_width": null,
            "min_height": null,
            "min_width": null,
            "object_fit": null,
            "object_position": null,
            "order": null,
            "overflow": null,
            "overflow_x": null,
            "overflow_y": null,
            "padding": null,
            "right": null,
            "top": null,
            "visibility": null,
            "width": null
          }
        },
        "c687505568984693944b0efd0c8b43db": {
          "model_module": "@jupyter-widgets/base",
          "model_module_version": "1.2.0",
          "model_name": "LayoutModel",
          "state": {
            "_model_module": "@jupyter-widgets/base",
            "_model_module_version": "1.2.0",
            "_model_name": "LayoutModel",
            "_view_count": null,
            "_view_module": "@jupyter-widgets/base",
            "_view_module_version": "1.2.0",
            "_view_name": "LayoutView",
            "align_content": null,
            "align_items": null,
            "align_self": null,
            "border": null,
            "bottom": null,
            "display": null,
            "flex": null,
            "flex_flow": null,
            "grid_area": null,
            "grid_auto_columns": null,
            "grid_auto_flow": null,
            "grid_auto_rows": null,
            "grid_column": null,
            "grid_gap": null,
            "grid_row": null,
            "grid_template_areas": null,
            "grid_template_columns": null,
            "grid_template_rows": null,
            "height": null,
            "justify_content": null,
            "justify_items": null,
            "left": null,
            "margin": null,
            "max_height": null,
            "max_width": null,
            "min_height": null,
            "min_width": null,
            "object_fit": null,
            "object_position": null,
            "order": null,
            "overflow": null,
            "overflow_x": null,
            "overflow_y": null,
            "padding": null,
            "right": null,
            "top": null,
            "visibility": null,
            "width": "20px"
          }
        },
        "d0f76ef2b0aa420fb120aa3f716d4bf2": {
          "model_module": "@jupyter-widgets/base",
          "model_module_version": "1.2.0",
          "model_name": "LayoutModel",
          "state": {
            "_model_module": "@jupyter-widgets/base",
            "_model_module_version": "1.2.0",
            "_model_name": "LayoutModel",
            "_view_count": null,
            "_view_module": "@jupyter-widgets/base",
            "_view_module_version": "1.2.0",
            "_view_name": "LayoutView",
            "align_content": null,
            "align_items": null,
            "align_self": null,
            "border": null,
            "bottom": null,
            "display": null,
            "flex": null,
            "flex_flow": null,
            "grid_area": null,
            "grid_auto_columns": null,
            "grid_auto_flow": null,
            "grid_auto_rows": null,
            "grid_column": null,
            "grid_gap": null,
            "grid_row": null,
            "grid_template_areas": null,
            "grid_template_columns": null,
            "grid_template_rows": null,
            "height": null,
            "justify_content": null,
            "justify_items": null,
            "left": null,
            "margin": null,
            "max_height": null,
            "max_width": null,
            "min_height": null,
            "min_width": null,
            "object_fit": null,
            "object_position": null,
            "order": null,
            "overflow": null,
            "overflow_x": null,
            "overflow_y": null,
            "padding": null,
            "right": null,
            "top": null,
            "visibility": null,
            "width": null
          }
        },
        "d114aa5f7fb24276b7048e0f60fb7356": {
          "model_module": "@jupyter-widgets/base",
          "model_module_version": "1.2.0",
          "model_name": "LayoutModel",
          "state": {
            "_model_module": "@jupyter-widgets/base",
            "_model_module_version": "1.2.0",
            "_model_name": "LayoutModel",
            "_view_count": null,
            "_view_module": "@jupyter-widgets/base",
            "_view_module_version": "1.2.0",
            "_view_name": "LayoutView",
            "align_content": null,
            "align_items": null,
            "align_self": null,
            "border": null,
            "bottom": null,
            "display": null,
            "flex": null,
            "flex_flow": null,
            "grid_area": null,
            "grid_auto_columns": null,
            "grid_auto_flow": null,
            "grid_auto_rows": null,
            "grid_column": null,
            "grid_gap": null,
            "grid_row": null,
            "grid_template_areas": null,
            "grid_template_columns": null,
            "grid_template_rows": null,
            "height": null,
            "justify_content": null,
            "justify_items": null,
            "left": null,
            "margin": null,
            "max_height": null,
            "max_width": null,
            "min_height": null,
            "min_width": null,
            "object_fit": null,
            "object_position": null,
            "order": null,
            "overflow": null,
            "overflow_x": null,
            "overflow_y": null,
            "padding": null,
            "right": null,
            "top": null,
            "visibility": null,
            "width": null
          }
        },
        "d609c303f51b48099622dc3c372d77b4": {
          "model_module": "@jupyter-widgets/controls",
          "model_module_version": "1.5.0",
          "model_name": "FloatProgressModel",
          "state": {
            "_dom_classes": [],
            "_model_module": "@jupyter-widgets/controls",
            "_model_module_version": "1.5.0",
            "_model_name": "FloatProgressModel",
            "_view_count": null,
            "_view_module": "@jupyter-widgets/controls",
            "_view_module_version": "1.5.0",
            "_view_name": "ProgressView",
            "bar_style": "danger",
            "description": "",
            "description_tooltip": null,
            "layout": "IPY_MODEL_d7786e1234a3465c95073a1b9871bd4b",
            "max": 1,
            "min": 0,
            "orientation": "horizontal",
            "style": "IPY_MODEL_c0a7ebcbfa6e42369a33527ed3153e62",
            "value": 1
          }
        },
        "d6c4ebe96871480980bf05de9cc854bb": {
          "model_module": "@jupyter-widgets/controls",
          "model_module_version": "1.5.0",
          "model_name": "HTMLModel",
          "state": {
            "_dom_classes": [],
            "_model_module": "@jupyter-widgets/controls",
            "_model_module_version": "1.5.0",
            "_model_name": "HTMLModel",
            "_view_count": null,
            "_view_module": "@jupyter-widgets/controls",
            "_view_module_version": "1.5.0",
            "_view_name": "HTMLView",
            "description": "",
            "description_tooltip": null,
            "layout": "IPY_MODEL_d0f76ef2b0aa420fb120aa3f716d4bf2",
            "placeholder": "​",
            "style": "IPY_MODEL_a18fbc528bca457a83e704545ea76dc1",
            "value": " 10/? [06:09&lt;00:00, 32.37s/it]"
          }
        },
        "d6e60957485a4ef4bafee8537703ae24": {
          "model_module": "@jupyter-widgets/controls",
          "model_module_version": "1.5.0",
          "model_name": "HTMLModel",
          "state": {
            "_dom_classes": [],
            "_model_module": "@jupyter-widgets/controls",
            "_model_module_version": "1.5.0",
            "_model_name": "HTMLModel",
            "_view_count": null,
            "_view_module": "@jupyter-widgets/controls",
            "_view_module_version": "1.5.0",
            "_view_name": "HTMLView",
            "description": "",
            "description_tooltip": null,
            "layout": "IPY_MODEL_e16e33447f25498e881b46cff8fa6870",
            "placeholder": "​",
            "style": "IPY_MODEL_d71a87c1fc1f43e3bdf70fc48bfb41ab",
            "value": ""
          }
        },
        "d71a87c1fc1f43e3bdf70fc48bfb41ab": {
          "model_module": "@jupyter-widgets/controls",
          "model_module_version": "1.5.0",
          "model_name": "DescriptionStyleModel",
          "state": {
            "_model_module": "@jupyter-widgets/controls",
            "_model_module_version": "1.5.0",
            "_model_name": "DescriptionStyleModel",
            "_view_count": null,
            "_view_module": "@jupyter-widgets/base",
            "_view_module_version": "1.2.0",
            "_view_name": "StyleView",
            "description_width": ""
          }
        },
        "d7786e1234a3465c95073a1b9871bd4b": {
          "model_module": "@jupyter-widgets/base",
          "model_module_version": "1.2.0",
          "model_name": "LayoutModel",
          "state": {
            "_model_module": "@jupyter-widgets/base",
            "_model_module_version": "1.2.0",
            "_model_name": "LayoutModel",
            "_view_count": null,
            "_view_module": "@jupyter-widgets/base",
            "_view_module_version": "1.2.0",
            "_view_name": "LayoutView",
            "align_content": null,
            "align_items": null,
            "align_self": null,
            "border": null,
            "bottom": null,
            "display": null,
            "flex": null,
            "flex_flow": null,
            "grid_area": null,
            "grid_auto_columns": null,
            "grid_auto_flow": null,
            "grid_auto_rows": null,
            "grid_column": null,
            "grid_gap": null,
            "grid_row": null,
            "grid_template_areas": null,
            "grid_template_columns": null,
            "grid_template_rows": null,
            "height": null,
            "justify_content": null,
            "justify_items": null,
            "left": null,
            "margin": null,
            "max_height": null,
            "max_width": null,
            "min_height": null,
            "min_width": null,
            "object_fit": null,
            "object_position": null,
            "order": null,
            "overflow": null,
            "overflow_x": null,
            "overflow_y": null,
            "padding": null,
            "right": null,
            "top": null,
            "visibility": null,
            "width": "20px"
          }
        },
        "e16e33447f25498e881b46cff8fa6870": {
          "model_module": "@jupyter-widgets/base",
          "model_module_version": "1.2.0",
          "model_name": "LayoutModel",
          "state": {
            "_model_module": "@jupyter-widgets/base",
            "_model_module_version": "1.2.0",
            "_model_name": "LayoutModel",
            "_view_count": null,
            "_view_module": "@jupyter-widgets/base",
            "_view_module_version": "1.2.0",
            "_view_name": "LayoutView",
            "align_content": null,
            "align_items": null,
            "align_self": null,
            "border": null,
            "bottom": null,
            "display": null,
            "flex": null,
            "flex_flow": null,
            "grid_area": null,
            "grid_auto_columns": null,
            "grid_auto_flow": null,
            "grid_auto_rows": null,
            "grid_column": null,
            "grid_gap": null,
            "grid_row": null,
            "grid_template_areas": null,
            "grid_template_columns": null,
            "grid_template_rows": null,
            "height": null,
            "justify_content": null,
            "justify_items": null,
            "left": null,
            "margin": null,
            "max_height": null,
            "max_width": null,
            "min_height": null,
            "min_width": null,
            "object_fit": null,
            "object_position": null,
            "order": null,
            "overflow": null,
            "overflow_x": null,
            "overflow_y": null,
            "padding": null,
            "right": null,
            "top": null,
            "visibility": null,
            "width": null
          }
        },
        "e71bb62ca1a84585b6657742063abbbe": {
          "model_module": "@jupyter-widgets/controls",
          "model_module_version": "1.5.0",
          "model_name": "HTMLModel",
          "state": {
            "_dom_classes": [],
            "_model_module": "@jupyter-widgets/controls",
            "_model_module_version": "1.5.0",
            "_model_name": "HTMLModel",
            "_view_count": null,
            "_view_module": "@jupyter-widgets/controls",
            "_view_module_version": "1.5.0",
            "_view_name": "HTMLView",
            "description": "",
            "description_tooltip": null,
            "layout": "IPY_MODEL_03538c35e8254277936afd95516b2f18",
            "placeholder": "​",
            "style": "IPY_MODEL_1bc09c7c7f8b410d85f1f6de5a96d75b",
            "value": ""
          }
        },
        "ea2380af3f474aebbf5ab69e73fc9280": {
          "model_module": "@jupyter-widgets/controls",
          "model_module_version": "1.5.0",
          "model_name": "DescriptionStyleModel",
          "state": {
            "_model_module": "@jupyter-widgets/controls",
            "_model_module_version": "1.5.0",
            "_model_name": "DescriptionStyleModel",
            "_view_count": null,
            "_view_module": "@jupyter-widgets/base",
            "_view_module_version": "1.2.0",
            "_view_name": "StyleView",
            "description_width": ""
          }
        },
        "eb3c06e17fb04658a0f3f65af534d55b": {
          "model_module": "@jupyter-widgets/controls",
          "model_module_version": "1.5.0",
          "model_name": "DescriptionStyleModel",
          "state": {
            "_model_module": "@jupyter-widgets/controls",
            "_model_module_version": "1.5.0",
            "_model_name": "DescriptionStyleModel",
            "_view_count": null,
            "_view_module": "@jupyter-widgets/base",
            "_view_module_version": "1.2.0",
            "_view_name": "StyleView",
            "description_width": ""
          }
        },
        "eb9b2ed963d64ae2bf1cb5faa3ba1150": {
          "model_module": "@jupyter-widgets/controls",
          "model_module_version": "1.5.0",
          "model_name": "FloatProgressModel",
          "state": {
            "_dom_classes": [],
            "_model_module": "@jupyter-widgets/controls",
            "_model_module_version": "1.5.0",
            "_model_name": "FloatProgressModel",
            "_view_count": null,
            "_view_module": "@jupyter-widgets/controls",
            "_view_module_version": "1.5.0",
            "_view_name": "ProgressView",
            "bar_style": "danger",
            "description": "",
            "description_tooltip": null,
            "layout": "IPY_MODEL_8ddcc53b81664b2892ca35b2c0557f51",
            "max": 1,
            "min": 0,
            "orientation": "horizontal",
            "style": "IPY_MODEL_5a5a5a04e37f46bebc8914955f5eb911",
            "value": 1
          }
        },
        "fc24e25821784461a5ab96f6c730f682": {
          "model_module": "@jupyter-widgets/controls",
          "model_module_version": "1.5.0",
          "model_name": "DescriptionStyleModel",
          "state": {
            "_model_module": "@jupyter-widgets/controls",
            "_model_module_version": "1.5.0",
            "_model_name": "DescriptionStyleModel",
            "_view_count": null,
            "_view_module": "@jupyter-widgets/base",
            "_view_module_version": "1.2.0",
            "_view_name": "StyleView",
            "description_width": ""
          }
        }
      }
    }
  },
  "nbformat": 4,
  "nbformat_minor": 0
}